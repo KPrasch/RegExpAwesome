{
 "cells": [
  {
   "cell_type": "code",
   "execution_count": 1,
   "metadata": {
    "collapsed": false,
    "slideshow": {
     "slide_type": "slide"
    }
   },
   "outputs": [
    {
     "data": {
      "text/plain": [
       "'Regular Expressions _are_ Awesome'"
      ]
     },
     "execution_count": 1,
     "metadata": {},
     "output_type": "execute_result"
    }
   ],
   "source": [
    "import re\n",
    "\n",
    "\n",
    "\"\"\"Regular Expressions _are_ Awesome\"\"\"\n",
    "### Kieran R. Prasch"
   ]
  },
  {
   "cell_type": "markdown",
   "metadata": {
    "slideshow": {
     "slide_type": "subslide"
    }
   },
   "source": [
    "![](https://imgs.xkcd.com/comics/regular_expressions.png)"
   ]
  },
  {
   "cell_type": "markdown",
   "metadata": {
    "slideshow": {
     "slide_type": "subslide"
    }
   },
   "source": [
    "# Goals"
   ]
  },
  {
   "cell_type": "markdown",
   "metadata": {
    "slideshow": {
     "slide_type": "fragment"
    }
   },
   "source": [
    "- Cover the basics"
   ]
  },
  {
   "cell_type": "markdown",
   "metadata": {
    "slideshow": {
     "slide_type": "fragment"
    }
   },
   "source": [
    "- Share with you a few of my favorite parts about using regular expressions"
   ]
  },
  {
   "cell_type": "markdown",
   "metadata": {
    "slideshow": {
     "slide_type": "fragment"
    }
   },
   "source": [
    "- Code examples"
   ]
  },
  {
   "cell_type": "markdown",
   "metadata": {
    "slideshow": {
     "slide_type": "fragment"
    }
   },
   "source": [
    "- (hopefully) Inspire you to use regex more often"
   ]
  },
  {
   "cell_type": "markdown",
   "metadata": {
    "nbpresent": {
     "id": "78407564-8b67-4a1f-8b8f-467308ae6c45"
    },
    "slideshow": {
     "slide_type": "slide"
    }
   },
   "source": [
    "# What are Regular Expressions?\n",
    "---\n"
   ]
  },
  {
   "cell_type": "markdown",
   "metadata": {
    "nbpresent": {
     "id": "e0323374-29fa-424c-9f41-432947236dd1"
    },
    "slideshow": {
     "slide_type": "fragment"
    }
   },
   "source": [
    "  ###### \"Regular Expressions are boring.\""
   ]
  },
  {
   "cell_type": "markdown",
   "metadata": {
    "slideshow": {
     "slide_type": "fragment"
    }
   },
   "source": [
    "  ###### \"Looks Scary\""
   ]
  },
  {
   "cell_type": "markdown",
   "metadata": {
    "slideshow": {
     "slide_type": "fragment"
    }
   },
   "source": [
    "##### _\"A set of instructions for matching any substring of a specified pattern.\"_ "
   ]
  },
  {
   "cell_type": "code",
   "execution_count": 2,
   "metadata": {
    "collapsed": false,
    "slideshow": {
     "slide_type": "slide"
    }
   },
   "outputs": [
    {
     "data": {
      "text/plain": [
       "'(/^00[1-9](?=\\\\-?[0-9][1-9](?=\\\\-?[0-9][0-9][0-9][1-9]))|00[1-9](?=\\\\-?[0-9][1-9](?=\\\\-?[0-9][0-9][1-9][0-9]))|00[1-9](?=\\\\-?[0-9][1-9](?=\\\\-?[0-9][1-9][0-9][0-9]))|00[1-9](?=\\\\-?[0-9][1-9](?=\\\\-?[1-9][0-9][0-9][0-9]))|00[1-9](?=\\\\-?[1-9][0-9](?=\\\\-?[0-9][0-9][0-9][1-9]))|00[1-9](?=\\\\-?[1-9][0-9](?=\\\\-?[0-9][0-9][1-9][0-9]))|00[1-9](?=\\\\-?[1-9][0-9](?=\\\\-?[0-9][1-9][0-9][0-9]))|00[1-9](?=\\\\-?[1-9][0-9](?=\\\\-?[1-9][0-9][0-9][0-9]))|0[1-9][0-9](?=\\\\-?[0-9][1-9](?=\\\\-?[0-9][0-9][0-9][1-9]))|0[1-9][0-9](?=\\\\-?[0-9][1-9](?=\\\\-?[0-9][0-9][1-9][0-9]))|0[1-9][0-9](?=\\\\-?[0-9][1-9](?=\\\\-?[0-9][1-9][0-9][0-9]))|0[1-9][0-9](?=\\\\-?[0-9][1-9](?=\\\\-?[1-9][0-9][0-9][0-9]))|0[1-9][0-9](?=\\\\-?[1-9][0-9](?=\\\\-?[0-9][0-9][0-9][1-9]))|0[1-9][0-9](?=\\\\-?[1-9][0-9](?=\\\\-?[0-9][0-9][1-9][0-9]))|0[1-9][0-9](?=\\\\-?[1-9][0-9](?=\\\\-?[0-9][1-9][0-9][0-9]))|0[1-9][0-9](?=\\\\-?[1-9][0-9](?=\\\\-?[1-9][0-9][0-9][0-9]))|[1-5][0-9][0-9](?=\\\\-?[0-9][1-9](?=\\\\-?[0-9][0-9][0-9][1-9]))|[1-5][0-9][0-9](?=\\\\-?[0-9][1-9](?=\\\\-?[0-9][0-9][1-9][0-9]))|[1-5][0-9][0-9](?=\\\\-?[0-9][1-9](?=\\\\-?[0-9][1-9][0-9][0-9]))|[1-5][0-9][0-9](?=\\\\-?[0-9][1-9](?=\\\\-?[1-9][0-9][0-9][0-9]))|[1-5][0-9][0-9](?=\\\\-?[1-9][0-9](?=\\\\-?[0-9][0-9][0-9][1-9]))|[1-5][0-9][0-9](?=\\\\-?[1-9][0-9](?=\\\\-?[0-9][0-9][1-9][0-9]))|[1-5][0-9][0-9](?=\\\\-?[1-9][0-9](?=\\\\-?[0-9][1-9][0-9][0-9]))|[1-5][0-9][0-9](?=\\\\-?[1-9][0-9](?=\\\\-?[1-9][0-9][0-9][0-9]))|6[0-5][0-9](?=\\\\-?[0-9][1-9](?=\\\\-?[0-9][0-9][0-9][1-9]))|6[0-5][0-9](?=\\\\-?[0-9][1-9](?=\\\\-?[0-9][0-9][1-9][0-9]))|6[0-5][0-9](?=\\\\-?[0-9][1-9](?=\\\\-?[0-9][1-9][0-9][0-9]))|6[0-5][0-9](?=\\\\-?[0-9][1-9](?=\\\\-?[1-9][0-9][0-9][0-9]))|6[0-5][0-9](?=\\\\-?[1-9][0-9](?=\\\\-?[0-9][0-9][0-9][1-9]))|6[0-5][0-9](?=\\\\-?[1-9][0-9](?=\\\\-?[0-9][0-9][1-9][0-9]))|6[0-5][0-9](?=\\\\-?[1-9][0-9](?=\\\\-?[0-9][1-9][0-9][0-9]))|6[0-5][0-9](?=\\\\-?[1-9][0-9](?=\\\\-?[1-9][0-9][0-9][0-9]))|66[0-5](?=\\\\-?[0-9][1-9](?=\\\\-?[0-9][0-9][0-9][1-9]))|66[0-5](?=\\\\-?[0-9][1-9](?=\\\\-?[0-9][0-9][1-9][0-9]))|66[0-5](?=\\\\-?[0-9][1-9](?=\\\\-?[0-9][1-9][0-9][0-9]))|66[0-5](?=\\\\-?[0-9][1-9](?=\\\\-?[1-9][0-9][0-9][0-9]))|66[0-5](?=\\\\-?[1-9][0-9](?=\\\\-?[0-9][0-9][0-9][1-9]))|66[0-5](?=\\\\-?[1-9][0-9](?=\\\\-?[0-9][0-9][1-9][0-9]))|66[0-5](?=\\\\-?[1-9][0-9](?=\\\\-?[0-9][1-9][0-9][0-9]))|66[0-5](?=\\\\-?[1-9][0-9](?=\\\\-?[1-9][0-9][0-9][0-9]))|66[7-9](?=\\\\-?[0-9][1-9](?=\\\\-?[0-9][0-9][0-9][1-9]))|66[7-9](?=\\\\-?[0-9][1-9](?=\\\\-?[0-9][0-9][1-9][0-9]))|66[7-9](?=\\\\-?[0-9][1-9](?=\\\\-?[0-9][1-9][0-9][0-9]))|66[7-9](?=\\\\-?[0-9][1-9](?=\\\\-?[1-9][0-9][0-9][0-9]))|66[7-9](?=\\\\-?[1-9][0-9](?=\\\\-?[0-9][0-9][0-9][1-9]))|66[7-9](?=\\\\-?[1-9][0-9](?=\\\\-?[0-9][0-9][1-9][0-9]))|66[7-9](?=\\\\-?[1-9][0-9](?=\\\\-?[0-9][1-9][0-9][0-9]))|66[7-9](?=\\\\-?[1-9][0-9](?=\\\\-?[1-9][0-9][0-9][0-9]))|6[7-9][0-9](?=\\\\-?[0-9][1-9](?=\\\\-?[0-9][0-9][0-9][1-9]))|6[7-9][0-9](?=\\\\-?[0-9][1-9](?=\\\\-?[0-9][0-9][1-9][0-9]))|6[7-9][0-9](?=\\\\-?[0-9][1-9](?=\\\\-?[0-9][1-9][0-9][0-9]))|6[7-9][0-9](?=\\\\-?[0-9][1-9](?=\\\\-?[1-9][0-9][0-9][0-9]))|6[7-9][0-9](?=\\\\-?[1-9][0-9](?=\\\\-?[0-9][0-9][0-9][1-9]))|6[7-9][0-9](?=\\\\-?[1-9][0-9](?=\\\\-?[0-9][0-9][1-9][0-9]))|6[7-9][0-9](?=\\\\-?[1-9][0-9](?=\\\\-?[0-9][1-9][0-9][0-9]))|6[7-9][0-9](?=\\\\-?[1-9][0-9](?=\\\\-?[1-9][0-9][0-9][0-9]))|[7-8][0-9][0-9](?=\\\\-?[0-9][1-9](?=\\\\-?[0-9][0-9][0-9][1-9]))|[7-8][0-9][0-9](?=\\\\-?[0-9][1-9](?=\\\\-?[0-9][0-9][1-9][0-9]))|[7-8][0-9][0-9](?=\\\\-?[0-9][1-9](?=\\\\-?[0-9][1-9][0-9][0-9]))|[7-8][0-9][0-9](?=\\\\-?[0-9][1-9](?=\\\\-?[1-9][0-9][0-9][0-9]))|[7-8][0-9][0-9](?=\\\\-?[1-9][0-9](?=\\\\-?[0-9][0-9][0-9][1-9]))|[7-8][0-9][0-9](?=\\\\-?[1-9][0-9](?=\\\\-?[0-9][0-9][1-9][0-9]))|[7-8][0-9][0-9](?=\\\\-?[1-9][0-9](?=\\\\-?[0-9][1-9][0-9][0-9]))|[7-8][0-9][0-9](?=\\\\-?[1-9][0-9](?=\\\\-?[1-9][0-9][0-9][0-9]))$'"
      ]
     },
     "execution_count": 2,
     "metadata": {},
     "output_type": "execute_result"
    }
   ],
   "source": [
    "'(/^00[1-9](?=\\-?[0-9][1-9](?=\\-?[0-9][0-9][0-9][1-9]))|00[1-9](?=\\-?[0-9][1-9](?=\\-?[0-9][0-9][1-9][0-9]))|00[1-9](?=\\-?[0-9][1-9](?=\\-?[0-9][1-9][0-9][0-9]))|00[1-9](?=\\-?[0-9][1-9](?=\\-?[1-9][0-9][0-9][0-9]))|00[1-9](?=\\-?[1-9][0-9](?=\\-?[0-9][0-9][0-9][1-9]))|00[1-9](?=\\-?[1-9][0-9](?=\\-?[0-9][0-9][1-9][0-9]))|00[1-9](?=\\-?[1-9][0-9](?=\\-?[0-9][1-9][0-9][0-9]))|00[1-9](?=\\-?[1-9][0-9](?=\\-?[1-9][0-9][0-9][0-9]))|0[1-9][0-9](?=\\-?[0-9][1-9](?=\\-?[0-9][0-9][0-9][1-9]))|0[1-9][0-9](?=\\-?[0-9][1-9](?=\\-?[0-9][0-9][1-9][0-9]))|0[1-9][0-9](?=\\-?[0-9][1-9](?=\\-?[0-9][1-9][0-9][0-9]))|0[1-9][0-9](?=\\-?[0-9][1-9](?=\\-?[1-9][0-9][0-9][0-9]))|0[1-9][0-9](?=\\-?[1-9][0-9](?=\\-?[0-9][0-9][0-9][1-9]))|0[1-9][0-9](?=\\-?[1-9][0-9](?=\\-?[0-9][0-9][1-9][0-9]))|0[1-9][0-9](?=\\-?[1-9][0-9](?=\\-?[0-9][1-9][0-9][0-9]))|0[1-9][0-9](?=\\-?[1-9][0-9](?=\\-?[1-9][0-9][0-9][0-9]))|[1-5][0-9][0-9](?=\\-?[0-9][1-9](?=\\-?[0-9][0-9][0-9][1-9]))|[1-5][0-9][0-9](?=\\-?[0-9][1-9](?=\\-?[0-9][0-9][1-9][0-9]))|[1-5][0-9][0-9](?=\\-?[0-9][1-9](?=\\-?[0-9][1-9][0-9][0-9]))|[1-5][0-9][0-9](?=\\-?[0-9][1-9](?=\\-?[1-9][0-9][0-9][0-9]))|[1-5][0-9][0-9](?=\\-?[1-9][0-9](?=\\-?[0-9][0-9][0-9][1-9]))|[1-5][0-9][0-9](?=\\-?[1-9][0-9](?=\\-?[0-9][0-9][1-9][0-9]))|[1-5][0-9][0-9](?=\\-?[1-9][0-9](?=\\-?[0-9][1-9][0-9][0-9]))|[1-5][0-9][0-9](?=\\-?[1-9][0-9](?=\\-?[1-9][0-9][0-9][0-9]))|6[0-5][0-9](?=\\-?[0-9][1-9](?=\\-?[0-9][0-9][0-9][1-9]))|6[0-5][0-9](?=\\-?[0-9][1-9](?=\\-?[0-9][0-9][1-9][0-9]))|6[0-5][0-9](?=\\-?[0-9][1-9](?=\\-?[0-9][1-9][0-9][0-9]))|6[0-5][0-9](?=\\-?[0-9][1-9](?=\\-?[1-9][0-9][0-9][0-9]))|6[0-5][0-9](?=\\-?[1-9][0-9](?=\\-?[0-9][0-9][0-9][1-9]))|6[0-5][0-9](?=\\-?[1-9][0-9](?=\\-?[0-9][0-9][1-9][0-9]))|6[0-5][0-9](?=\\-?[1-9][0-9](?=\\-?[0-9][1-9][0-9][0-9]))|6[0-5][0-9](?=\\-?[1-9][0-9](?=\\-?[1-9][0-9][0-9][0-9]))|66[0-5](?=\\-?[0-9][1-9](?=\\-?[0-9][0-9][0-9][1-9]))|66[0-5](?=\\-?[0-9][1-9](?=\\-?[0-9][0-9][1-9][0-9]))|66[0-5](?=\\-?[0-9][1-9](?=\\-?[0-9][1-9][0-9][0-9]))|66[0-5](?=\\-?[0-9][1-9](?=\\-?[1-9][0-9][0-9][0-9]))|66[0-5](?=\\-?[1-9][0-9](?=\\-?[0-9][0-9][0-9][1-9]))|66[0-5](?=\\-?[1-9][0-9](?=\\-?[0-9][0-9][1-9][0-9]))|66[0-5](?=\\-?[1-9][0-9](?=\\-?[0-9][1-9][0-9][0-9]))|66[0-5](?=\\-?[1-9][0-9](?=\\-?[1-9][0-9][0-9][0-9]))|66[7-9](?=\\-?[0-9][1-9](?=\\-?[0-9][0-9][0-9][1-9]))|66[7-9](?=\\-?[0-9][1-9](?=\\-?[0-9][0-9][1-9][0-9]))|66[7-9](?=\\-?[0-9][1-9](?=\\-?[0-9][1-9][0-9][0-9]))|66[7-9](?=\\-?[0-9][1-9](?=\\-?[1-9][0-9][0-9][0-9]))|66[7-9](?=\\-?[1-9][0-9](?=\\-?[0-9][0-9][0-9][1-9]))|66[7-9](?=\\-?[1-9][0-9](?=\\-?[0-9][0-9][1-9][0-9]))|66[7-9](?=\\-?[1-9][0-9](?=\\-?[0-9][1-9][0-9][0-9]))|66[7-9](?=\\-?[1-9][0-9](?=\\-?[1-9][0-9][0-9][0-9]))|6[7-9][0-9](?=\\-?[0-9][1-9](?=\\-?[0-9][0-9][0-9][1-9]))|6[7-9][0-9](?=\\-?[0-9][1-9](?=\\-?[0-9][0-9][1-9][0-9]))|6[7-9][0-9](?=\\-?[0-9][1-9](?=\\-?[0-9][1-9][0-9][0-9]))|6[7-9][0-9](?=\\-?[0-9][1-9](?=\\-?[1-9][0-9][0-9][0-9]))|6[7-9][0-9](?=\\-?[1-9][0-9](?=\\-?[0-9][0-9][0-9][1-9]))|6[7-9][0-9](?=\\-?[1-9][0-9](?=\\-?[0-9][0-9][1-9][0-9]))|6[7-9][0-9](?=\\-?[1-9][0-9](?=\\-?[0-9][1-9][0-9][0-9]))|6[7-9][0-9](?=\\-?[1-9][0-9](?=\\-?[1-9][0-9][0-9][0-9]))|[7-8][0-9][0-9](?=\\-?[0-9][1-9](?=\\-?[0-9][0-9][0-9][1-9]))|[7-8][0-9][0-9](?=\\-?[0-9][1-9](?=\\-?[0-9][0-9][1-9][0-9]))|[7-8][0-9][0-9](?=\\-?[0-9][1-9](?=\\-?[0-9][1-9][0-9][0-9]))|[7-8][0-9][0-9](?=\\-?[0-9][1-9](?=\\-?[1-9][0-9][0-9][0-9]))|[7-8][0-9][0-9](?=\\-?[1-9][0-9](?=\\-?[0-9][0-9][0-9][1-9]))|[7-8][0-9][0-9](?=\\-?[1-9][0-9](?=\\-?[0-9][0-9][1-9][0-9]))|[7-8][0-9][0-9](?=\\-?[1-9][0-9](?=\\-?[0-9][1-9][0-9][0-9]))|[7-8][0-9][0-9](?=\\-?[1-9][0-9](?=\\-?[1-9][0-9][0-9][0-9]))$'"
   ]
  },
  {
   "cell_type": "markdown",
   "metadata": {
    "nbpresent": {
     "id": "8974b841-42bf-4950-a23a-cf56b9533798"
    },
    "slideshow": {
     "slide_type": "slide"
    }
   },
   "source": [
    "\n",
    "![Regex Morpheus](https://i.imgflip.com/gxgvt.jpg \"Morpheus Meme\")\n",
    "\n"
   ]
  },
  {
   "cell_type": "markdown",
   "metadata": {
    "nbpresent": {
     "id": "e054b3eb-f9e1-4646-b92e-94f4f70c287a"
    },
    "slideshow": {
     "slide_type": "slide"
    }
   },
   "source": [
    "## Regular Expression are a special!"
   ]
  },
  {
   "cell_type": "markdown",
   "metadata": {
    "slideshow": {
     "slide_type": "fragment"
    }
   },
   "source": [
    "Its not just a language, but it runs inside languages"
   ]
  },
  {
   "cell_type": "markdown",
   "metadata": {
    "slideshow": {
     "slide_type": "fragment"
    }
   },
   "source": [
    "Whitespace Free"
   ]
  },
  {
   "cell_type": "markdown",
   "metadata": {
    "slideshow": {
     "slide_type": "fragment"
    }
   },
   "source": [
    "Many cups of coffee per character"
   ]
  },
  {
   "cell_type": "markdown",
   "metadata": {
    "nbpresent": {
     "id": "a4772391-503c-4348-965b-43e905cc379b"
    },
    "slideshow": {
     "slide_type": "slide"
    }
   },
   "source": [
    "\n",
    "# Regular Expressions in practice\n",
    "---\n",
    "\n",
    "- Log Parsing\n",
    "- Validation        \n",
    "- Text Analysis\n",
    "- Web Scraping      \n",
    "- Geocoding\n",
    "- Feature Extraction\n",
    "- Command Line Tools\n",
    "- Databases         \n",
    "- Django Routing    \n"
   ]
  },
  {
   "cell_type": "markdown",
   "metadata": {
    "slideshow": {
     "slide_type": "subslide"
    }
   },
   "source": [
    "`<input pattern=\"(java|ecma)script\" required>`\n",
    "\n",
    "`<(.*?)>` \n",
    "\n",
    "`SELECT * FROM YourDatabase WHERE YourField REGEXP 'ty$';`\n",
    "\n",
    "`url(r'^post/detail/(?P<slug>[a-z_A-z]+)$', home),`"
   ]
  },
  {
   "cell_type": "markdown",
   "metadata": {
    "nbpresent": {
     "id": "d65ac625-1c0d-4b0f-9dec-c2b7b8bb7590"
    },
    "slideshow": {
     "slide_type": "slide"
    }
   },
   "source": [
    "## Language"
   ]
  },
  {
   "cell_type": "markdown",
   "metadata": {
    "slideshow": {
     "slide_type": "notes"
    }
   },
   "source": [
    "Commands are things that you already know - this makes it easier to learn\n",
    "\n",
    "Dialects\n",
    "\n",
    "History"
   ]
  },
  {
   "cell_type": "markdown",
   "metadata": {
    "slideshow": {
     "slide_type": "subslide"
    }
   },
   "source": [
    "## Metacharacters \n",
    "\n",
    ". ^ $ * + ? { } [ ] \\ | ( )\n",
    "\n",
    "## Alphabet\n",
    "\n",
    "abcdefghijklmnopqrstuvwxyzABCDEFGHIJKLMNOPQRSTUVWXYZ\n",
    "\n",
    "## Flags\n",
    "- Ignorecase\n",
    "- Multiline\n",
    "- Global\n",
    "- Verbose"
   ]
  },
  {
   "cell_type": "markdown",
   "metadata": {
    "slideshow": {
     "slide_type": "subslide"
    }
   },
   "source": [
    "## RegEx Essentials \n",
    "\n",
    "1. quantifiers `*, +, ?`\n",
    "\n",
    "2. character classes `[abc], [a-z], [^a-z] and \\w`\n",
    "\n",
    "3. groups `a(bc)+`\n",
    "\n",
    "4. Anchors `^ and $`"
   ]
  },
  {
   "cell_type": "markdown",
   "metadata": {
    "slideshow": {
     "slide_type": "subslide"
    }
   },
   "source": [
    "# abc ![abcregex](./abc.jpg)"
   ]
  },
  {
   "cell_type": "markdown",
   "metadata": {
    "slideshow": {
     "slide_type": "subslide"
    }
   },
   "source": [
    "## Word Character one or more times\n",
    "# \\w+ ![](./wordloop.jpg)"
   ]
  },
  {
   "cell_type": "markdown",
   "metadata": {
    "slideshow": {
     "slide_type": "subslide"
    }
   },
   "source": [
    "## Word Character zero or more times. (optional)\n",
    "# \\w* ![](./wordstar.jpg)"
   ]
  },
  {
   "cell_type": "markdown",
   "metadata": {
    "slideshow": {
     "slide_type": "subslide"
    }
   },
   "source": [
    "## Word Character exactly 3 times.\n",
    "\n",
    "# \\w{3} ![](./wordquantifier.jpg)"
   ]
  },
  {
   "cell_type": "markdown",
   "metadata": {
    "slideshow": {
     "slide_type": "subslide"
    }
   },
   "source": [
    "\n",
    "## Charachter Class exactly three times\n",
    "\n",
    "# [a-c]{3} ![](./charsetquantifier.jpg)"
   ]
  },
  {
   "cell_type": "markdown",
   "metadata": {
    "slideshow": {
     "slide_type": "subslide"
    }
   },
   "source": [
    "## Character class exactly three times, inside a capture group, with both line begenning and end anchors.\n",
    "\n",
    "## ^([a-c]{3})$ ![](./mixup.jpg)"
   ]
  },
  {
   "cell_type": "markdown",
   "metadata": {
    "slideshow": {
     "slide_type": "subslide"
    }
   },
   "source": [
    "## Email Address\n",
    "\n",
    "`\\w+@[\\w_-]\\.[a-z]{2,}`\n",
    "\n",
    "![email](./email2.jpg)"
   ]
  },
  {
   "cell_type": "markdown",
   "metadata": {
    "slideshow": {
     "slide_type": "subslide"
    }
   },
   "source": [
    "## Extended formatting\n",
    "\n",
    "(\\+\\d{1,2})?(-|\\()?(\\d{10}|(\\d{3}[\\-|\\)]{0,2}){2}\\d{4})$"
   ]
  },
  {
   "cell_type": "code",
   "execution_count": 3,
   "metadata": {
    "collapsed": false,
    "slideshow": {
     "slide_type": "fragment"
    }
   },
   "outputs": [],
   "source": [
    "p = re.compile(r\"\"\"\n",
    "\n",
    "(\\+\\d{1,2})?               # Optional Country Code +1 or perhaps +22\n",
    "(-|\\()?                    # Optional hyphen or open parenths for the area code.\n",
    "(\\d{10}                    # Try and match ten digits exactly\n",
    "|                          # Else\n",
    "(\\d{3}                     # Match three digits\n",
    "[\\-|\\)]{0,2})              # Hypen or close parenths zero through 2 times (to account for -))  \n",
    "{2}                        # Repeat to match the next three digits\n",
    "\\d{4})                     # The remaining four digits\n",
    "$                          # Ensure nothing else follows \n",
    "\n",
    "\n",
    "\"\"\", re.VERBOSE)"
   ]
  },
  {
   "cell_type": "markdown",
   "metadata": {
    "slideshow": {
     "slide_type": "subslide"
    }
   },
   "source": [
    "## Matching against many types of phone numbers\n",
    "\n",
    "![Phone Number](phonenumber.jpg 'regex')"
   ]
  },
  {
   "cell_type": "markdown",
   "metadata": {
    "nbpresent": {
     "id": "25977d1e-0858-4ec6-917d-1a7affe956d9"
    },
    "slideshow": {
     "slide_type": "slide"
    }
   },
   "source": [
    "# Examples"
   ]
  },
  {
   "cell_type": "markdown",
   "metadata": {
    "slideshow": {
     "slide_type": "subslide"
    }
   },
   "source": [
    "## Command line\n",
    "\n",
    "`$ tree -h -I '*.pyc|__pycache__'` - Getting a clean look at the file tree\n",
    "\n",
    "`$ cat syslog auth.log | grep -E '([128-255]{3}\\.)*?[100-255]{3}'` - Searching for certain IPv4 addresses"
   ]
  },
  {
   "cell_type": "markdown",
   "metadata": {
    "slideshow": {
     "slide_type": "subslide"
    }
   },
   "source": [
    "## Web Scraping"
   ]
  },
  {
   "cell_type": "code",
   "execution_count": 4,
   "metadata": {
    "collapsed": false,
    "scrolled": true,
    "slideshow": {
     "slide_type": "fragment"
    }
   },
   "outputs": [
    {
     "data": {
      "text/plain": [
       "['/president/clinton/speeches/speech-3437',\n",
       " '/president/bush/speeches/speech-5530',\n",
       " '/president/gwbush/speeches/remarks-on-stem-cell-research-policy',\n",
       " '/president/roosevelt/speeches/message-regarding-meatpacking-plants',\n",
       " '/president/bush/speeches/speech-3432',\n",
       " '/president/obama/speeches/address-to-congress-on-the-american-jobs-act',\n",
       " '/president/polk/speeches/message-regarding-slavery-in-the-territories',\n",
       " '/president/adams/speeches/speech-3464',\n",
       " '/president/mckinley/speeches/proclamations-modifying-latin-american-commercial-agreements',\n",
       " '/president/clinton/speeches/speech-3442',\n",
       " '/president/coolidge/speeches/declaration-of-independence-anniversary-commemoration',\n",
       " '/president/grant/speeches/speech-3745',\n",
       " '/president/madison/speeches/speech-3607',\n",
       " '/president/hayes/speeches/proclamation-regarding-indian-territory',\n",
       " '/president/fdroosevelt/speeches/speech-3316',\n",
       " '/president/jefferson/speeches/speech-3473',\n",
       " '/president/coolidge/speeches/speech-3569',\n",
       " '/president/roosevelt/speeches/message-regarding-disturbances-in-texas',\n",
       " '/president/jefferson/speeches/speech-3498',\n",
       " '/president/washington/speeches/speech-3938',\n",
       " '/president/washington/speeches/speech-3456',\n",
       " '/president/obama/speeches/remarks-on-education-and-the-economy',\n",
       " '/president/washington/speeches/speech-3461',\n",
       " '/president/taft/speeches/message-regarding-economic-legislation',\n",
       " '/president/kennedy/speeches/speech-5947',\n",
       " '/president/johnson/speeches/speech-3555',\n",
       " '/president/gwbush/speeches/speech-4540',\n",
       " '/president/buchanan/speeches/speech-3732',\n",
       " '/president/madison/speeches/speech-3608',\n",
       " '/president/lbjohnson/speeches/speech-5933',\n",
       " '/president/truman/speeches/speech-3355',\n",
       " '/president/taft/speeches/speech-3781',\n",
       " '/president/wilson/speeches/speech-3566',\n",
       " '/president/mckinley/speeches/speech-3563',\n",
       " '/president/tyler/speeches/message-to-senate-on-negotiations-with-britain',\n",
       " '/president/polk/speeches/message-regarding-size-of-the-army',\n",
       " '/president/cleveland/speeches/veto-message-regarding-immigration-legislation1',\n",
       " '/president/tyler/speeches/address-upon-assuming-the-office-of-president-of-the-united-states',\n",
       " '/president/taft/speeches/speech-3565',\n",
       " '/president/polk/speeches/announcement-of-war-with-mexico',\n",
       " '/president/fdroosevelt/speeches/high-wages-for-high-production',\n",
       " '/president/gwbush/speeches/remarks-on-hurricane-katrina-relief-efforts',\n",
       " '/president/gwbush/speeches/address-on-renewal-in-iraq',\n",
       " '/president/ford/speeches/speech-5498',\n",
       " '/president/nixon/speeches/speech-3880',\n",
       " '/president/polk/speeches/message-regarding-war-time-measures',\n",
       " '/president/carter/speeches/speech-5536',\n",
       " '/president/clinton/speeches/speech-3440',\n",
       " '/president/kennedy/speeches/speech-3369',\n",
       " '/president/fdroosevelt/speeches/speech-3325',\n",
       " '/president/taft/speeches/message-regarding-tariff-legislation',\n",
       " '/president/reagan/speeches/speech-5866',\n",
       " '/president/kennedy/speeches/speech-3363',\n",
       " '/president/harding/speeches/the-american-soldier',\n",
       " '/president/carter/speeches/speech-5539',\n",
       " '/president/buchanan/speeches/protest-of-congressional-investigations',\n",
       " '/president/jefferson/speeches/speech-3475',\n",
       " '/president/reagan/speeches/speech-5448',\n",
       " '/president/lincoln/speeches/speech-3505',\n",
       " '/president/nixon/speeches/speech-3871',\n",
       " '/president/lbjohnson/speeches/speech-5910',\n",
       " '/president/roosevelt/speeches/speech-3773',\n",
       " '/president/jefferson/speeches/speech-3477',\n",
       " '/president/johnson/speeches/second-annual-message2',\n",
       " '/president/harding/speeches/an-association-of-nations',\n",
       " '/president/kennedy/speeches/speech-5953',\n",
       " '/president/fdroosevelt/speeches/speech-3311',\n",
       " '/president/mckinley/speeches/message-regarding-cuban-civil-war',\n",
       " '/president/grant/speeches/speech-3746',\n",
       " '/president/hayes/speeches/prohibition-of-federal-employees-political-involvement',\n",
       " '/president/gwbush/speeches/temporary-worker-program-proposal',\n",
       " '/president/bush/speeches/speech-5531',\n",
       " '/president/roosevelt/speeches/speech-3776',\n",
       " '/president/gwbush/speeches/address-to-the-nation-on-the-department-of-homeland-security',\n",
       " '/president/clinton/speeches/speech-4597',\n",
       " '/president/nixon/speeches/speech-3888',\n",
       " '/president/grant/speeches/speech-3741',\n",
       " '/president/jqadams/speeches/speech-3515',\n",
       " '/president/harding/speeches/safeguarding-america',\n",
       " '/president/fdroosevelt/speeches/americanism',\n",
       " '/president/truman/speeches/speech-3820',\n",
       " '/president/reagan/speeches/speech-5449',\n",
       " '/president/kennedy/speeches/speech-5946',\n",
       " '/president/obama/speeches/speech-on-the-bp-oil-spill',\n",
       " '/president/obama/speeches/press-conference-after-2010-midterm-elections',\n",
       " '/president/reagan/speeches/speech-5855',\n",
       " '/president/wilson/speeches/speech-3793',\n",
       " '/president/gwbush/speeches/speech-4450',\n",
       " '/president/lbjohnson/speeches/speech-5907',\n",
       " '/president/roosevelt/speeches/speech-3777',\n",
       " '/president/bharrison/speeches/message-regarding-valparaiso-incident',\n",
       " '/president/arthur/speeches/message-regarding-congress-of-american-countries',\n",
       " '/president/fdroosevelt/speeches/speech-3319',\n",
       " '/president/reagan/speeches/speech-3416',\n",
       " '/president/lbjohnson/speeches/speech-5935',\n",
       " '/president/fdroosevelt/speeches/speech-3305',\n",
       " '/president/obama/speeches/speech-on-economic-mobility',\n",
       " '/president/mckinley/speeches/speech-3771',\n",
       " '/president/johnson/speeches/veto-message-regarding-regulations-on-confederate-states',\n",
       " '/president/monroe/speeches/speech-3598',\n",
       " '/president/monroe/speeches/speech-3602',\n",
       " '/president/wilson/speeches/message-regarding-world-war-i',\n",
       " '/president/jackson/speeches/veto-message-regarding-funding-of-infrastructure-development',\n",
       " '/president/hayes/speeches/veto-message-regarding-appropriations-legislation',\n",
       " '/president/kennedy/speeches/speech-5951',\n",
       " '/president/kennedy/speeches/speech-5743',\n",
       " '/president/hoover/speeches/message-regarding-law-enforcement',\n",
       " '/president/jackson/speeches/speech-3485',\n",
       " '/president/cleveland/speeches/message-on-federal-employee-political-involvement',\n",
       " '/president/truman/speeches/speech-3345',\n",
       " '/president/taylor/speeches/first-annual-message1',\n",
       " '/president/gwbush/speeches/proposal-for-global-fund-to-fight-hiv-aids-malaria-and-tuberculosis',\n",
       " '/president/polk/speeches/message-regarding-the-treaty-of-guadalupe-hidalgo1',\n",
       " '/president/lbjohnson/speeches/speech-5938',\n",
       " '/president/madison/speeches/speech-3616',\n",
       " '/president/gwbush/speeches/speech-4454',\n",
       " '/president/fdroosevelt/speeches/speech-3317',\n",
       " '/president/bush/speeches/speech-5532',\n",
       " '/president/nixon/speeches/speech-3873',\n",
       " '/president/wilson/speeches/speech-4722',\n",
       " '/president/obama/speeches/speech-5548',\n",
       " '/president/obama/speeches/remarks-on-the-death-of-osama-bin-laden',\n",
       " '/president/reagan/speeches/speech-5678',\n",
       " '/president/lincoln/speeches/speech-3512',\n",
       " '/president/madison/speeches/speech-3620',\n",
       " '/president/fdroosevelt/speeches/the-republican-party',\n",
       " '/president/obama/speeches/remarks-on-nominating-judge-sonia-sotomayor-to-the-u.s.-supreme-court',\n",
       " '/president/gwbush/speeches/speech-4541',\n",
       " '/president/mckinley/speeches/speech-3772',\n",
       " '/president/johnson/speeches/third-annual-message-to-congress1',\n",
       " '/president/johnson/speeches/message-regarding-the-suspension-of-secretary-stanton',\n",
       " '/president/washington/speeches/speech-3460',\n",
       " '/president/kennedy/speeches/speech-5732',\n",
       " '/president/lbjohnson/speeches/speech-4034',\n",
       " '/president/nixon/speeches/speech-3587',\n",
       " '/president/lbjohnson/speeches/speech-5902',\n",
       " '/president/fdroosevelt/speeches/speech-3326',\n",
       " '/president/bharrison/speeches/messages-regarding-the-international-american-conference',\n",
       " '/president/obama/speeches/address-to-the-nation-on-syria',\n",
       " '/president/pierce/speeches/message-regarding-transit-across-central-america',\n",
       " '/president/clinton/speeches/speech-3929',\n",
       " '/president/lbjohnson/speeches/speech-5664',\n",
       " '/president/taylor/speeches/speech-3551',\n",
       " '/president/gwbush/speeches/speech-on-financial-markets-and-the-world-economy',\n",
       " '/president/wilson/speeches/message-regarding-german-actions',\n",
       " '/president/cleveland/speeches/announcement-of-treasury-bond-sale',\n",
       " '/president/vanburen/speeches/speech-3725',\n",
       " '/president/carter/speeches/speech-3935',\n",
       " '/president/gwbush/speeches/speech-3645',\n",
       " '/president/clinton/speeches/speech-4155',\n",
       " '/president/buchanan/speeches/addendum-to-march-28-message-to-congress',\n",
       " '/president/fdroosevelt/speeches/speech-3334',\n",
       " '/president/harding/speeches/speech-accepting-the-republican-nomination2',\n",
       " '/president/clinton/speeches/speech-3933',\n",
       " '/president/lbjohnson/speeches/speech-5936',\n",
       " '/president/bharrison/speeches/speech-3766',\n",
       " '/president/kennedy/speeches/speech-5762',\n",
       " '/president/fdroosevelt/speeches/the-american-soldier',\n",
       " '/president/reagan/speeches/speech-5463',\n",
       " '/president/monroe/speeches/speech-3594',\n",
       " '/president/harding/speeches/speech-upon-arrival-of-world-war-one-dead-for-burial',\n",
       " '/president/buchanan/speeches/veto-message-regarding-land-grant-colleges',\n",
       " '/president/clinton/speeches/speech-3932',\n",
       " '/president/lbjohnson/speeches/speech-5667',\n",
       " '/president/cleveland/speeches/speech-3756',\n",
       " '/president/polk/speeches/message-regarding-treaty-of-guadelupe-hidalgo',\n",
       " '/president/kennedy/speeches/speech-3362',\n",
       " '/president/reagan/speeches/speech-5867',\n",
       " '/president/carter/speeches/speech-5534',\n",
       " '/president/roosevelt/speeches/message-regarding-panama-canal',\n",
       " '/president/reagan/speeches/speech-5862',\n",
       " '/president/obama/speeches/statement-on-the-government-sequester',\n",
       " '/president/taft/speeches/message-regarding-income-tax',\n",
       " '/president/vanburen/speeches/speech-3592',\n",
       " '/president/fdroosevelt/speeches/speech-3331',\n",
       " '/president/jackson/speeches/message-regarding-treaties-with-the-choctaw-nation-of-indians',\n",
       " '/president/lbjohnson/speeches/speech-5937',\n",
       " '/president/tyler/speeches/veto-message-regarding-the-bank-of-the-united-states',\n",
       " '/president/clinton/speeches/speech-5496',\n",
       " '/president/adams/speeches/speech-3467',\n",
       " '/president/lbjohnson/speeches/speech-5916',\n",
       " '/president/clinton/speeches/speech-4596',\n",
       " '/president/hayes/speeches/message-regarding-election-regulations',\n",
       " '/president/reagan/speeches/speech-5857',\n",
       " '/president/obama/speeches/speech-5502',\n",
       " '/president/kennedy/speeches/speech-5948',\n",
       " '/president/washington/speeches/speech-3449',\n",
       " '/president/reagan/speeches/speech-3409',\n",
       " '/president/roosevelt/speeches/message-regarding-labor-legislation',\n",
       " '/president/truman/speeches/speech-3352',\n",
       " '/president/nixon/speeches/speech-3877',\n",
       " '/president/roosevelt/speeches/speech-3780',\n",
       " '/president/jackson/speeches/speech-3642',\n",
       " '/president/madison/speeches/speech-3629',\n",
       " '/president/fdroosevelt/speeches/speech-3336',\n",
       " '/president/pierce/speeches/speech-3728',\n",
       " '/president/jefferson/speeches/speech-3499',\n",
       " '/president/ford/speeches/speech-3522',\n",
       " '/president/fdroosevelt/speeches/speech-3312',\n",
       " '/president/nixon/speeches/speech-3891',\n",
       " '/president/kennedy/speeches/speech-5739',\n",
       " '/president/truman/speeches/speech-3339',\n",
       " '/president/reagan/speeches/speech-5459',\n",
       " '/president/kennedy/speeches/speech-3677',\n",
       " '/president/hoover/speeches/second-state-of-the-union-address',\n",
       " '/president/johnson/speeches/veto-message-on-admitting-nebraska-into-the-union',\n",
       " '/president/johnson/speeches/message-regarding-the-removal-of-secretary-stanton',\n",
       " '/president/wilson/speeches/speech-3789',\n",
       " '/president/arthur/speeches/speech-3560',\n",
       " '/president/carter/speeches/speech-3286',\n",
       " '/president/taft/speeches/speech-3786',\n",
       " '/president/madison/speeches/speech-3619',\n",
       " '/president/clinton/speeches/speech-3927',\n",
       " '/president/wilson/speeches/speech-3796',\n",
       " '/president/bush/speeches/speech-3433',\n",
       " '/president/truman/speeches/speech-3351',\n",
       " '/president/johnson/speeches/veto-message-regarding-electoral-college-participation',\n",
       " '/president/lbjohnson/speeches/speech-5915',\n",
       " '/president/johnson/speeches/veto-message-regarding-rebel-state-governments',\n",
       " '/president/tyler/speeches/second-annual-message',\n",
       " '/president/fdroosevelt/speeches/speech-3805',\n",
       " '/president/kennedy/speeches/speech-5949',\n",
       " '/president/madison/speeches/speech-3625',\n",
       " '/president/bush/speeches/speech-3429',\n",
       " '/president/jefferson/speeches/speech-3497',\n",
       " '/president/jackson/speeches/speech-3634',\n",
       " '/president/pierce/speeches/proclamation-addressing-disturbances-in-kansas',\n",
       " '/president/monroe/speeches/speech-3597',\n",
       " '/president/carter/speeches/speech-5533',\n",
       " '/president/cleveland/speeches/speech-3764',\n",
       " '/president/harding/speeches/high-wages-for-high-production',\n",
       " '/president/lbjohnson/speeches/speech-4000',\n",
       " '/president/lbjohnson/speeches/speech-5908',\n",
       " '/president/gwbush/speeches/remarks-on-plan-to-assist-automakers',\n",
       " '/president/clinton/speeches/speech-3439',\n",
       " '/president/kennedy/speeches/speech-3370',\n",
       " '/president/jefferson/speeches/speech-3491',\n",
       " '/president/obama/speeches/remarks-at-memorial-for-victims-of-the-tucson-az-shooting',\n",
       " '/president/ford/speeches/speech-3393',\n",
       " '/president/fdroosevelt/speeches/safeguarding-america',\n",
       " '/president/pierce/speeches/expansion-of-august-4-veto-message',\n",
       " '/president/obama/speeches/remarks-on-wall-street-reform',\n",
       " '/president/reagan/speeches/speech-5864',\n",
       " '/president/lbjohnson/speeches/speech-5919',\n",
       " '/president/jackson/speeches/speech-3640',\n",
       " '/president/vanburen/speeches/speech-3589',\n",
       " '/president/grant/speeches/speech-3556',\n",
       " '/president/monroe/speeches/speech-3596',\n",
       " '/president/mckinley/speeches/proclamation-calling-for-military-volunteers',\n",
       " '/president/lbjohnson/speeches/speech-3383',\n",
       " '/president/jackson/speeches/speech-3636',\n",
       " '/president/johnson/speeches/fourth-annual-message-to-congress1',\n",
       " '/president/gwbush/speeches/remarks-at-the-un-general-assembly',\n",
       " '/president/wilson/speeches/speech-3798',\n",
       " '/president/taylor/speeches/message-regarding-newly-acquired-territories',\n",
       " '/president/reagan/speeches/speech-5456',\n",
       " '/president/reagan/speeches/speech-3923',\n",
       " '/president/polk/speeches/message-regarding-the-oregon-territory',\n",
       " '/president/kennedy/speeches/speech-3372',\n",
       " '/president/grant/speeches/proclamation-establishing-eight-hour-workday',\n",
       " '/president/bharrison/speeches/message-regarding-hawaiian-annexation',\n",
       " '/president/truman/speeches/speech-3346',\n",
       " '/president/wilson/speeches/speech-3792',\n",
       " '/president/cleveland/speeches/speech-3763',\n",
       " '/president/jackson/speeches/message-regarding-indian-relations',\n",
       " '/president/harding/speeches/americanism',\n",
       " '/president/clinton/speeches/speech-3930',\n",
       " '/president/taylor/speeches/message-regarding-treaty-with-great-britain',\n",
       " '/president/cleveland/speeches/announcing-the-continuation-of-us-neutrality',\n",
       " '/president/carter/speeches/speech-3928',\n",
       " '/president/reagan/speeches/speech-5859',\n",
       " '/president/wilson/speeches/speech-3787',\n",
       " '/president/polk/speeches/third-annual-message',\n",
       " '/president/gwbush/speeches/final-press-conference',\n",
       " '/president/roosevelt/speeches/speech-3774',\n",
       " '/president/hayes/speeches/speech-3749',\n",
       " '/president/jefferson/speeches/speech-3501',\n",
       " '/president/nixon/speeches/speech-3890',\n",
       " '/president/lbjohnson/speeches/speech-5909',\n",
       " '/president/cleveland/speeches/message-regarding-the-financial-crisis',\n",
       " '/president/hayes/speeches/veto-message-regarding-economic-legislation',\n",
       " '/president/jqadams/speeches/speech-3516',\n",
       " '/president/wilson/speeches/speech-3802',\n",
       " '/president/mckinley/speeches/remarks-on-the-centennial-of-washingtons-inauguration',\n",
       " '/president/carter/speeches/speech-5537',\n",
       " '/president/obama/speeches/2011-state-of-the-union',\n",
       " '/president/kennedy/speeches/speech-3364',\n",
       " '/president/cleveland/speeches/veto-of-texas-seed-bill',\n",
       " '/president/madison/speeches/speech-3626',\n",
       " '/president/reagan/speeches/speech-3414',\n",
       " '/president/grant/speeches/message-regarding-presidential-election',\n",
       " '/president/fdroosevelt/speeches/speech-3955',\n",
       " '/president/lbjohnson/speeches/speech-3380',\n",
       " '/president/kennedy/speeches/speech-5742',\n",
       " '/president/clinton/speeches/speech-4565',\n",
       " '/president/fdroosevelt/speeches/speech-3309',\n",
       " '/president/hoover/speeches/message-regarding-unemployment-relief1',\n",
       " '/president/fdroosevelt/speeches/speech-3300',\n",
       " '/president/roosevelt/speeches/message-regarding-the-state-of-puerto-rico',\n",
       " '/president/lbjohnson/speeches/speech-5905',\n",
       " '/president/ford/speeches/speech-3390',\n",
       " '/president/jqadams/speeches/message-regarding-the-congress-of-american-nations',\n",
       " '/president/clinton/speeches/speech-4600',\n",
       " '/president/johnson/speeches/executive-order-regarding-discharged-prisoners-of-war',\n",
       " '/president/jackson/speeches/speech-3635',\n",
       " '/president/gwbush/speeches/address-to-the-nation-on-stem-cell-research',\n",
       " '/president/nixon/speeches/speech-3588',\n",
       " '/president/truman/speeches/speech-3353',\n",
       " '/president/kennedy/speeches/speech-5763',\n",
       " '/president/roosevelt/speeches/speech-3778',\n",
       " '/president/fdroosevelt/speeches/speech-3323',\n",
       " '/president/fdroosevelt/speeches/speech-3804',\n",
       " '/president/cleveland/speeches/message-regarding-treaty-with-britain',\n",
       " '/president/carter/speeches/speech-5538',\n",
       " '/president/eisenhower/speeches/speech-3361',\n",
       " '/president/lbjohnson/speeches/speech-5920',\n",
       " '/president/fdroosevelt/speeches/speech-3327',\n",
       " '/president/clinton/speeches/speech-4566',\n",
       " '/president/harrison/speeches/speech-3548',\n",
       " '/president/gwbush/speeches/remarks-on-faith-based-and-community-initiatives',\n",
       " '/president/hayes/speeches/veto-of-army-appropriations-bill',\n",
       " '/president/fdroosevelt/speeches/speech-3335',\n",
       " '/president/reagan/speeches/speech-5860',\n",
       " '/president/carter/speeches/speech-5547',\n",
       " '/president/jackson/speeches/message-on-the-constitutional-rights-and-responsibilities-of-the-president',\n",
       " '/president/madison/speeches/speech-3630',\n",
       " '/president/wilson/speeches/speech-3797',\n",
       " '/president/grant/speeches/proclamation-suspending-habeas-corpus',\n",
       " '/president/washington/speeches/speech-3939',\n",
       " '/president/madison/speeches/speech-3611',\n",
       " '/president/roosevelt/speeches/message-regarding-us-cuban-commercial-convention',\n",
       " '/president/hayes/speeches/veto-message-regarding-military-legislation',\n",
       " '/president/wilson/speeches/message-regarding-us-german-relations',\n",
       " '/president/fdroosevelt/speeches/speech-3298',\n",
       " '/president/jefferson/speeches/speech-3500',\n",
       " '/president/gwbush/speeches/remarks-on-national-security-and-the-war-effort',\n",
       " '/president/coolidge/speeches/address-regarding-washingtons-birthday',\n",
       " '/president/lbjohnson/speeches/speech-4031',\n",
       " '/president/taft/speeches/speech-3784',\n",
       " '/president/grant/speeches/proclamation-regarding-disturbances-in-louisiana',\n",
       " '/president/bush/speeches/speech-3430',\n",
       " '/president/lbjohnson/speeches/speech-5657',\n",
       " '/president/nixon/speeches/speech-3874',\n",
       " '/president/hayes/speeches/speech-3750',\n",
       " '/president/fdroosevelt/speeches/speech-3337',\n",
       " '/president/hoover/speeches/message-regarding-black-thursday',\n",
       " '/president/fdroosevelt/speeches/speech-upon-arrival-of-world-war-one-dead-for-burial',\n",
       " '/president/ford/speeches/speech-5600',\n",
       " '/president/johnson/speeches/message-regarding-reconstruction-legislation',\n",
       " '/president/jackson/speeches/speech-3639',\n",
       " '/president/gwbush/speeches/remarks-on-emergency-economic-stabilization-act-of-2008',\n",
       " '/president/bush/speeches/speech-3424',\n",
       " '/president/grant/speeches/announcement-of-fifteenth-amendment-ratification',\n",
       " '/president/hayes/speeches/speech-3558',\n",
       " '/president/carter/speeches/speech-3404',\n",
       " '/president/jackson/speeches/addendum-to-the-protest-of-senate-censure',\n",
       " '/president/reagan/speeches/speech-5447',\n",
       " '/president/obama/speeches/speech-on-strategy-in-afghanistan-and-pakistan',\n",
       " '/president/reagan/speeches/speech-5677',\n",
       " '/president/hoover/speeches/address-to-the-american-bankers-association',\n",
       " '/president/harding/speeches/enduring-popular-government',\n",
       " '/president/monroe/speeches/speech-3483',\n",
       " '/president/reagan/speeches/speech-5455',\n",
       " '/president/bush/speeches/speech-3984',\n",
       " '/president/fillmore/speeches/announcement-of-texas-acceptance-of-compromise-propositions',\n",
       " '/president/washington/speeches/speech-3463',\n",
       " '/president/coolidge/speeches/speech-3808',\n",
       " '/president/madison/speeches/speech-3610',\n",
       " '/president/kennedy/speeches/speech-5764',\n",
       " '/president/bush/speeches/speech-5527',\n",
       " '/president/reagan/speeches/speech-5861',\n",
       " '/president/wilson/speeches/speech-3794',\n",
       " '/president/grant/speeches/veto-message-on-monetary-legislation',\n",
       " '/president/hoover/speeches/campaign-speech-in-madison-square-garden',\n",
       " '/president/gwbush/speeches/address-to-the-nation-on-the-terrorist-attacks',\n",
       " '/president/hoover/speeches/speech-3570',\n",
       " '/president/cleveland/speeches/speech-3758',\n",
       " '/president/lbjohnson/speeches/speech-5661',\n",
       " '/president/arthur/speeches/veto-of-river-and-harbors-act',\n",
       " '/president/johnson/speeches/proclamation-on-the-end-of-the-confederate-insurrection',\n",
       " '/president/buchanan/speeches/speech-3735',\n",
       " '/president/kennedy/speeches/speech-3378',\n",
       " '/president/vanburen/speeches/message-regarding-disturbances-and-hostilities-on-the-canadian-border',\n",
       " '/president/arthur/speeches/address-upon-assuming-the-office-of-the-president',\n",
       " '/president/clinton/speeches/speech-4561',\n",
       " '/president/monroe/speeches/speech-3606',\n",
       " '/president/carter/speeches/speech-3398',\n",
       " '/president/clinton/speeches/speech-4595',\n",
       " '/president/jackson/speeches/speech-3643',\n",
       " '/president/kennedy/speeches/speech-3374',\n",
       " '/president/lincoln/speeches/speech-3510',\n",
       " '/president/harding/speeches/opening-speech-of-the-conference-on-limitation-of-armament',\n",
       " '/president/jackson/speeches/message-regarding-south-carolina-nullification-of-federal-legislation',\n",
       " '/president/hoover/speeches/statement-on-unemployment-relief',\n",
       " '/president/gwbush/speeches/address-on-the-start-of-the-iraq-war',\n",
       " '/president/mckinley/speeches/speech-3562',\n",
       " '/president/washington/speeches/speech-3450',\n",
       " '/president/cleveland/speeches/message-on-the-statue-of-liberty',\n",
       " '/president/obama/speeches/2015-state-of-the-union-address',\n",
       " '/president/jefferson/speeches/speech-3474',\n",
       " '/president/reagan/speeches/speech-3418',\n",
       " '/president/coolidge/speeches/speech-3807',\n",
       " '/president/kennedy/speeches/speech-3366',\n",
       " '/president/fdroosevelt/speeches/speech-3321',\n",
       " '/president/reagan/speeches/speech-5853',\n",
       " '/president/truman/speeches/speech-3347',\n",
       " '/president/fdroosevelt/speeches/america',\n",
       " '/president/mckinley/speeches/message-regarding-banking-and-currency-laws',\n",
       " '/president/lincoln/speeches/speech-3504',\n",
       " '/president/jefferson/speeches/speech-3494',\n",
       " '/president/roosevelt/speeches/message-regarding-conditions-in-panama',\n",
       " '/president/nixon/speeches/speech-3875',\n",
       " '/president/tyler/speeches/fourth-annual-message',\n",
       " '/president/lbjohnson/speeches/speech-5921',\n",
       " '/president/adams/speeches/speech-3468',\n",
       " '/president/washington/speeches/speech-3459',\n",
       " '/president/nixon/speeches/speech-3886',\n",
       " '/president/gwbush/speeches/speech-4452',\n",
       " '/president/taft/speeches/message-regarding-environmental-preservation',\n",
       " '/president/roosevelt/speeches/message-convening-a-special-session-of-congress',\n",
       " '/president/grant/speeches/speech-3740',\n",
       " '/president/gwbush/speeches/speech-4461',\n",
       " '/president/madison/speeches/speech-3621',\n",
       " '/president/jefferson/speeches/speech-3469',\n",
       " '/president/eisenhower/speeches/speech-3356',\n",
       " '/president/fdroosevelt/speeches/speech-3333',\n",
       " '/president/bharrison/speeches/message-regarding-us-chilean-affairs',\n",
       " '/president/mckinley/speeches/speech-accepting-the-republican-nomination1',\n",
       " '/president/pierce/speeches/message-regarding-disturbances-in-kansas',\n",
       " '/president/lbjohnson/speeches/speech-3381',\n",
       " '/president/lbjohnson/speeches/speech-5917',\n",
       " '/president/hayes/speeches/speech-3748',\n",
       " '/president/eisenhower/speeches/speech-3360',\n",
       " '/president/jackson/speeches/protest-of-senate-censure',\n",
       " '/president/truman/speeches/speech-3343',\n",
       " '/president/washington/speeches/speech-3941',\n",
       " '/president/fdroosevelt/speeches/speech-3315',\n",
       " '/president/wilson/speeches/speech-3799',\n",
       " '/president/clinton/speeches/speech-4601',\n",
       " '/president/grant/speeches/message-regarding-us-international-relations',\n",
       " '/president/madison/speeches/speech-3615',\n",
       " '/president/polk/speeches/veto-message-regarding-funding-internal-improvements',\n",
       " '/president/truman/speeches/speech-3348',\n",
       " '/president/polk/speeches/first-annual-message',\n",
       " '/president/gwbush/speeches/graduation-speech-at-west-point',\n",
       " '/president/adams/speeches/speech-3944',\n",
       " '/president/reagan/speeches/speech-3924',\n",
       " '/president/kennedy/speeches/speech-3373',\n",
       " '/president/johnson/speeches/veto-message-on-freedmen-and-refugee-relief-bureau-legislation',\n",
       " '/president/fdroosevelt/speeches/speech-3329',\n",
       " '/president/cleveland/speeches/message-regarding-u.s.-labor-force',\n",
       " '/president/coolidge/speeches/speech-3812',\n",
       " '/president/wilson/speeches/memorial-day-address',\n",
       " '/president/hoover/speeches/message-regarding-the-smoot-hawley-tariff-act',\n",
       " '/president/jqadams/speeches/message-regarding-the-creek-indians',\n",
       " '/president/obama/speeches/remarks-on-the-end-of-the-war-in-iraq',\n",
       " '/president/carter/speeches/speech-3936',\n",
       " '/president/clinton/speeches/speech-3441',\n",
       " '/president/kennedy/speeches/speech-5945',\n",
       " '/president/pierce/speeches/speech-3731',\n",
       " '/president/adams/speeches/speech-3943',\n",
       " '/president/buchanan/speeches/message-on-threats-to-the-peace-and-existence-of-the-union',\n",
       " '/president/buchanan/speeches/message-regarding-the-presence-of-troops-in-washington-dc',\n",
       " '/president/polk/speeches/war-message-to-congress',\n",
       " '/president/grant/speeches/message-on-civil-service-reform',\n",
       " '/president/coolidge/speeches/speech-3806',\n",
       " '/president/arthur/speeches/speech-3752',\n",
       " '/president/buchanan/speeches/speech-3734',\n",
       " '/president/polk/speeches/message-regarding-the-treaty-of-guadalupe-hidalgo',\n",
       " '/president/fdroosevelt/speeches/an-association-of-nations',\n",
       " '/president/truman/speeches/speech-3349',\n",
       " '/president/bush/speeches/speech-3426',\n",
       " '/president/truman/speeches/speech-3350',\n",
       " '/president/nixon/speeches/speech-3878',\n",
       " '/president/reagan/speeches/speech-5470',\n",
       " '/president/hoover/speeches/speech-6000',\n",
       " '/president/lbjohnson/speeches/speech-5932',\n",
       " '/president/wilson/speeches/speech-3790',\n",
       " '/president/lbjohnson/speeches/speech-3526',\n",
       " '/president/bush/speeches/speech-3421',\n",
       " '/president/johnson/speeches/order-ending-commercial-restrictions-on-confederate-states',\n",
       " '/president/fdroosevelt/speeches/speech-3817',\n",
       " '/president/taft/speeches/speech-3785',\n",
       " '/president/lbjohnson/speeches/speech-5930',\n",
       " '/president/jefferson/speeches/speech-3492',\n",
       " '/president/washington/speeches/speech-3448',\n",
       " '/president/nixon/speeches/speech-3887',\n",
       " '/president/clinton/speeches/speech-5494',\n",
       " '/president/obama/speeches/remarks-in-eulogy-for-the-honorable-reverend-clementa-pickney',\n",
       " '/president/gwbush/speeches/speech-on-comprehensive-immigration-reform',\n",
       " '/president/hoover/speeches/statement-on-the-economy',\n",
       " '/president/pierce/speeches/message-to-senate-on-treaty-with-mexico',\n",
       " '/president/mckinley/speeches/proclamation-regarding-blockade-of-cuba',\n",
       " '/president/roosevelt/speeches/proclamation-declaring-us-neutrality',\n",
       " '/president/obama/speeches/remarks-on-space-exploration-in-the-21st-century',\n",
       " '/president/ford/speeches/speech-3283',\n",
       " '/president/vanburen/speeches/speech-3591',\n",
       " '/president/jefferson/speeches/speech-3470',\n",
       " '/president/fdroosevelt/speeches/speech-3819',\n",
       " '/president/harding/speeches/america',\n",
       " '/president/tyler/speeches/message-regarding-finances-and-fiscal-policy',\n",
       " '/president/reagan/speeches/speech-5453',\n",
       " '/president/lbjohnson/speeches/speech-5658',\n",
       " '/president/reagan/speeches/speech-5863',\n",
       " '/president/fdroosevelt/speeches/speech-3322',\n",
       " '/president/wilson/speeches/message-regarding-banking-system',\n",
       " '/president/bharrison/speeches/speech-3561',\n",
       " '/president/lbjohnson/speeches/speech-5906',\n",
       " '/president/mckinley/speeches/speech-3769',\n",
       " '/president/gwbush/speeches/hurricane-relief-address-from-new-orleans',\n",
       " '/president/gwbush/speeches/address-on-military-operations-in-iraq',\n",
       " '/president/lbjohnson/speeches/speech-3523',\n",
       " '/president/coolidge/speeches/message-regarding-relationship-of-church-and-state',\n",
       " '/president/madison/speeches/speech-3609',\n",
       " '/president/clinton/speeches/speech-3444',\n",
       " '/president/bush/speeches/speech-5529',\n",
       " '/president/obama/speeches/speech-on-health-care-reform',\n",
       " '/president/reagan/speeches/speech-3411',\n",
       " '/president/clinton/speeches/speech-3931',\n",
       " '/president/polk/speeches/message-regarding-settlement-with-mexico',\n",
       " '/president/washington/speeches/speech-3721',\n",
       " '/president/gwbush/speeches/remarks-on-no-child-left-behind-bill',\n",
       " '/president/adams/speeches/speech-3445',\n",
       " '/president/wilson/speeches/speech-3801',\n",
       " '/president/lincoln/speeches/speech-3508',\n",
       " '/president/kennedy/speeches/speech-5729',\n",
       " '/president/cleveland/speeches/message-regarding-the-financial-crisis1',\n",
       " '/president/obama/speeches/2013-state-of-the-union-address',\n",
       " '/president/lbjohnson/speeches/speech-5660',\n",
       " '/president/truman/speeches/speech-3341',\n",
       " '/president/fdroosevelt/speeches/speech-3815',\n",
       " '/president/hoover/speeches/message-regarding-the-farm-bill',\n",
       " '/president/polk/speeches/message-regarding-cherokee-indians',\n",
       " '/president/wilson/speeches/wilsons-fourteen-points',\n",
       " '/president/coolidge/speeches/centennial-of-washingtons-command-of-the-continental-army',\n",
       " '/president/arthur/speeches/speech-3753',\n",
       " '/president/clinton/speeches/speech-5497',\n",
       " '/president/lbjohnson/speeches/speech-3998',\n",
       " '/president/arthur/speeches/message-regarding-central-american-canal1',\n",
       " '/president/tyler/speeches/third-annual-message-to-congress',\n",
       " '/president/fdroosevelt/speeches/speech-3320',\n",
       " '/president/monroe/speeches/speech-3601',\n",
       " '/president/ford/speeches/speech-5499',\n",
       " '/president/fdroosevelt/speeches/opening-speech-of-the-conference-on-limitation-of-armament',\n",
       " '/president/grant/speeches/message-regarding-fourteenth-amendment',\n",
       " '/president/harding/speeches/nationalism-and-americanism',\n",
       " '/president/pierce/speeches/special-session-message-regarding-military-support',\n",
       " '/president/polk/speeches/request-to-increase-the-size-of-the-army',\n",
       " '/president/grant/speeches/message-regarding-dominican-republic-annexation',\n",
       " '/president/tyler/speeches/special-session-message-to-congress-regarding-general-affairs-of-the-countr',\n",
       " '/president/jackson/speeches/speech-3633',\n",
       " '/president/wilson/speeches/message-regarding-womens-suffrage',\n",
       " '/president/obama/speeches/2012-state-of-the-union-address',\n",
       " '/president/lbjohnson/speeches/speech-5911',\n",
       " '/president/lbjohnson/speeches/speech-4039',\n",
       " '/president/polk/speeches/second-annual-message-to-congress',\n",
       " '/president/reagan/speeches/speech-5446',\n",
       " '/president/obama/speeches/news-conference-on-congressional-gridlock',\n",
       " '/president/pierce/speeches/message-regarding-proposed-us-mexican-convention',\n",
       " '/president/obama/speeches/speech-on-gun-violence',\n",
       " '/president/lbjohnson/speeches/speech-5666',\n",
       " '/president/hoover/speeches/statement-on-the-national-economy',\n",
       " '/president/nixon/speeches/speech-3884',\n",
       " '/president/coolidge/speeches/speech-3810',\n",
       " '/president/obama/speeches/address-to-the-united-nations',\n",
       " '/president/roosevelt/speeches/message-regarding-us-cuban-relations',\n",
       " '/president/hoover/speeches/speech-accepting-the-republican-nomination3',\n",
       " '/president/grant/speeches/message-regarding-intervention-in-louisiana',\n",
       " '/president/johnson/speeches/message-proclaiming-end-to-insurrection-in-the-united-states',\n",
       " '/president/kennedy/speeches/speech-3365',\n",
       " '/president/pierce/speeches/message-regarding-us-spanish-relations',\n",
       " '/president/jefferson/speeches/speech-3479',\n",
       " '/president/grant/speeches/speech-3744',\n",
       " '/president/hoover/speeches/fourth-state-of-the-union-address',\n",
       " '/president/fdroosevelt/speeches/speech-3332',\n",
       " '/president/eisenhower/speeches/speech-3358',\n",
       " '/president/lbjohnson/speeches/speech-5939',\n",
       " '/president/jefferson/speeches/speech-3493',\n",
       " '/president/hoover/speeches/message-on-the-gold-standard',\n",
       " '/president/nixon/speeches/speech-3889',\n",
       " '/president/lbjohnson/speeches/speech-3388',\n",
       " '/president/polk/speeches/message-to-senate-regarding-oregon',\n",
       " '/president/reagan/speeches/speech-5469',\n",
       " '/president/grant/speeches/veto-of-legislation-fixing-the-presidential-salary',\n",
       " '/president/jackson/speeches/speech-3632',\n",
       " '/president/roosevelt/speeches/speech-3564',\n",
       " '/president/tyler/speeches/veto-message-on-the-creation-of-a-fiscal-corporation',\n",
       " '/president/clinton/speeches/speech-4602',\n",
       " '/president/lbjohnson/speeches/speech-5899',\n",
       " '/president/truman/speeches/speech-3354',\n",
       " '/president/jackson/speeches/nullification-proclamation',\n",
       " '/president/reagan/speeches/speech-5454',\n",
       " '/president/grant/speeches/proclamation-establishing-us-neutrality',\n",
       " '/president/reagan/speeches/speech-5683',\n",
       " '/president/cleveland/speeches/speech-3572',\n",
       " '/president/lbjohnson/speeches/speech-5665',\n",
       " '/president/fdroosevelt/speeches/speech-3338',\n",
       " '/president/johnson/speeches/message-regarding-control-of-abandoned-lands-and-property',\n",
       " '/president/fdroosevelt/speeches/speech-3301',\n",
       " '/president/hoover/speeches/statement-regarding-economic-recovery',\n",
       " '/president/roosevelt/speeches/message-regarding-treaty-with-panama',\n",
       " '/president/reagan/speeches/speech-5680',\n",
       " '/president/reagan/speeches/speech-5465',\n",
       " '/president/harding/speeches/speech-3804',\n",
       " '/president/lbjohnson/speeches/speech-5940',\n",
       " '/president/lbjohnson/speeches/speech-4041',\n",
       " '/president/lbjohnson/speeches/speech-5898',\n",
       " '/president/gwbush/speeches/remarks-on-freedom-in-iraq-and-middle-east',\n",
       " '/president/hoover/speeches/speech-3813',\n",
       " '/president/reagan/speeches/speech-5684',\n",
       " '/president/obama/speeches/remarks-on-trayvon-martin',\n",
       " '/president/wilson/speeches/veto-of-immigration-legislation',\n",
       " '/president/lincoln/speeches/speech-3509',\n",
       " '/president/bush/speeches/speech-3420',\n",
       " '/president/bush/speeches/speech-3422',\n",
       " '/president/lbjohnson/speeches/speech-5662',\n",
       " '/president/hoover/speeches/message-regarding-unemployment-relief',\n",
       " '/president/jackson/speeches/speech-3637',\n",
       " '/president/washington/speeches/speech-3454',\n",
       " '/president/gwbush/speeches/address-on-signing-medicare-legislation',\n",
       " '/president/obama/speeches/remarks-on-sandy-hook-elementary-shootings',\n",
       " '/president/wilson/speeches/speech-3791',\n",
       " '/president/vanburen/speeches/speech-3593',\n",
       " '/president/bush/speeches/speech-3419',\n",
       " '/president/adams/speeches/speech-3466',\n",
       " '/president/ford/speeches/speech-5599',\n",
       " '/president/cleveland/speeches/veto-of-military-pension-legislation',\n",
       " '/president/jackson/speeches/veto-message-of-internal-improvement-legislation',\n",
       " '/president/cleveland/speeches/message-regarding-civil-service-reform',\n",
       " '/president/madison/speeches/speech-3624',\n",
       " '/president/lbjohnson/speeches/speech-4036',\n",
       " '/president/kennedy/speeches/speech-5928',\n",
       " '/president/bharrison/speeches/message-regarding-death-of-treasury-secretary',\n",
       " '/president/tyler/speeches/speech-3549',\n",
       " '/president/washington/speeches/speech-3458',\n",
       " '/president/grant/speeches/message-regarding-insurrection-in-cuba',\n",
       " '/president/truman/speeches/speech-3340',\n",
       " '/president/harding/speeches/the-republic-must-awaken',\n",
       " '/president/mckinley/speeches/speech-3770',\n",
       " '/president/kennedy/speeches/speech-5731',\n",
       " '/president/cleveland/speeches/message-regarding-hawaiian-annexation1',\n",
       " '/president/monroe/speeches/speech-3603',\n",
       " '/president/reagan/speeches/speech-3405',\n",
       " '/president/gwbush/speeches/speech-3986',\n",
       " '/president/grant/speeches/speech-3742',\n",
       " '/president/kennedy/speeches/speech-5730',\n",
       " '/president/johnson/speeches/announcement-of-the-successful-suppression-of-the-rebellion',\n",
       " '/president/clinton/speeches/speech-4564',\n",
       " '/president/johnson/speeches/message-clarifying-the-reconstruction-acts',\n",
       " '/president/clinton/speeches/speech-3435',\n",
       " '/president/obama/speeches/nominee-acceptance-speech-at-2012-democratic-national-convention',\n",
       " '/president/obama/speeches/remarks-on-the-lilly-ledbetter-fair-pay-restoration-act-bill-signing',\n",
       " '/president/fdroosevelt/speeches/speech-3816',\n",
       " '/president/hoover/speeches/message-regarding-international-peace',\n",
       " '/president/buchanan/speeches/special-message-regarding-transit-across-central-america',\n",
       " '/president/grant/speeches/proclamation-regarding-fenian-brotherhood',\n",
       " '/president/fdroosevelt/speeches/liberty-under-the-law',\n",
       " '/president/wilson/speeches/message-regarding-military-draft',\n",
       " '/president/lincoln/speeches/speech-3507',\n",
       " '/president/fillmore/speeches/message-regarding-agreement-with-texas',\n",
       " '/president/fdroosevelt/speeches/speech-3299',\n",
       " '/president/madison/speeches/speech-3614',\n",
       " '/president/cleveland/speeches/messages-regarding-economic-crisis',\n",
       " '/president/obama/speeches/address-to-the-people-of-israel',\n",
       " '/president/carter/speeches/speech-3403',\n",
       " '/president/reagan/speeches/speech-3407',\n",
       " '/president/fillmore/speeches/second-annual-message1',\n",
       " '/president/ford/speeches/speech-3985',\n",
       " '/president/jqadams/speeches/speech-3517',\n",
       " '/president/clinton/speeches/speech-4563',\n",
       " '/president/obama/speeches/2016-state-of-the-union-address',\n",
       " '/president/reagan/speeches/speech-3408',\n",
       " '/president/cleveland/speeches/speech-3757',\n",
       " '/president/obama/speeches/speech-4453',\n",
       " '/president/lbjohnson/speeches/speech-5900',\n",
       " '/president/harding/speeches/speech-3805',\n",
       " '/president/lincoln/speeches/speech-3736',\n",
       " '/president/wilson/speeches/fourth-of-july-address',\n",
       " '/president/lbjohnson/speeches/speech-5525',\n",
       " '/president/gwbush/speeches/speech-4455',\n",
       " '/president/madison/speeches/speech-3613',\n",
       " '/president/reagan/speeches/speech-5681',\n",
       " '/president/reagan/speeches/speech-5679',\n",
       " '/president/fdroosevelt/speeches/readjustment',\n",
       " '/president/kennedy/speeches/speech-5740',\n",
       " '/president/clinton/speeches/speech-4562',\n",
       " '/president/jefferson/speeches/speech-3496',\n",
       " '/president/fdroosevelt/speeches/speech-3814',\n",
       " '/president/carter/speeches/speech-3400',\n",
       " '/president/johnson/speeches/messages-regarding-correspondence-with-general-u.s.-grant',\n",
       " '/president/lbjohnson/speeches/speech-4038',\n",
       " '/president/ford/speeches/speech-3394',\n",
       " '/president/tyler/speeches/message-regarding-the-slave-trade',\n",
       " '/president/kennedy/speeches/speech-5669',\n",
       " '/president/kennedy/speeches/speech-3376',\n",
       " '/president/wilson/speeches/message-regarding-tampico-incident',\n",
       " '/president/kennedy/speeches/speech-5728',\n",
       " '/president/bharrison/speeches/statement-at-the-international-american-conference',\n",
       " '/president/bharrison/speeches/statement-on-the-johnstown-flood',\n",
       " '/president/johnson/speeches/message-following-the-death-of-abraham-lincoln',\n",
       " '/president/washington/speeches/speech-3451',\n",
       " '/president/cleveland/speeches/message-regarding-chinese-exclusion-act',\n",
       " '/president/johnson/speeches/proclamation-restoring-all-rights-to-rebellion-participants',\n",
       " '/president/lbjohnson/speeches/speech-3387',\n",
       " '/president/kennedy/speeches/speech-5952',\n",
       " '/president/reagan/speeches/speech-5868',\n",
       " '/president/hoover/speeches/first-state-of-the-union-address',\n",
       " '/president/grant/speeches/message-on-presidential-powers-and-obligations',\n",
       " '/president/fdroosevelt/speeches/speech-3330',\n",
       " '/president/carter/speeches/speech-3402',\n",
       " '/president/nixon/speeches/speech-3879',\n",
       " '/president/reagan/speeches/speech-3406',\n",
       " '/president/lbjohnson/speeches/speech-5913',\n",
       " '/president/bharrison/speeches/commemoration-of-the-centennial-of-washingtons-inauguration',\n",
       " '/president/grant/speeches/veto-message-regarding-restrictions-on-rebellion-participants',\n",
       " '/president/kennedy/speeches/speech-3375',\n",
       " '/president/clinton/speeches/speech-5495',\n",
       " '/president/obama/speeches/acceptance-of-nobel-peace-prize',\n",
       " '/president/lincoln/speeches/speech-3503',\n",
       " '/president/obama/speeches/speech-5706',\n",
       " '/president/obama/speeches/speech-4424',\n",
       " '/president/hoover/speeches/campaign-speech-in-indianapolis-indiana',\n",
       " '/president/polk/speeches/speech-3550',\n",
       " '/president/fdroosevelt/speeches/speech-3306',\n",
       " '/president/cleveland/speeches/speech-3755',\n",
       " '/president/obama/speeches/speech-4612',\n",
       " '/president/gwbush/speeches/address-on-the-u.s.-response-to-the-attacks-of-september-11',\n",
       " '/president/bharrison/speeches/speech-3767',\n",
       " '/president/fdroosevelt/speeches/the-republic-must-awaken',\n",
       " '/president/monroe/speeches/speech-3604',\n",
       " '/president/hoover/speeches/message-on-the-economy',\n",
       " '/president/grant/speeches/message-regarding-virginia-constitution',\n",
       " '/president/obama/speeches/remarks-on-immigration-reform',\n",
       " '/president/truman/speeches/speech-3342',\n",
       " '/president/wilson/speeches/message-regarding-safety-of-merchant-ships',\n",
       " '/president/tyler/speeches/message-regarding-treaty-with-texas',\n",
       " '/president/clinton/speeches/speech-3438',\n",
       " '/president/bush/speeches/speech-3425',\n",
       " '/president/kennedy/speeches/speech-3377',\n",
       " '/president/johnson/speeches/proclamation-pardoning-persons-who-participated-in-the-rebellion',\n",
       " '/president/ford/speeches/speech-5598',\n",
       " '/president/jackson/speeches/statement-on-the-independence-of-texas',\n",
       " '/president/kennedy/speeches/speech-3371',\n",
       " '/president/pierce/speeches/veto-message-on-legislation-funding-public-works',\n",
       " '/president/taft/speeches/speech-3783',\n",
       " '/president/obama/speeches/commencement-address-at-rutgers-university',\n",
       " '/president/arthur/speeches/veto-of-safety-regulations-bill',\n",
       " '/president/bush/speeches/speech-3431',\n",
       " '/president/cleveland/speeches/proclamation-regarding-railroad-strike',\n",
       " '/president/lincoln/speeches/speech-3487',\n",
       " '/president/harding/speeches/speech-3568',\n",
       " '/president/lincoln/speeches/speech-3737',\n",
       " '/president/fdroosevelt/speeches/speech-3573',\n",
       " '/president/bharrison/speeches/speech-3768',\n",
       " '/president/cleveland/speeches/veto-message-of-monetary-legislation',\n",
       " '/president/lincoln/speeches/speech-3739',\n",
       " '/president/reagan/speeches/speech-5842',\n",
       " '/president/obama/speeches/address-to-the-british-parliament',\n",
       " '/president/mckinley/speeches/speech-in-buffalo-new-york',\n",
       " '/president/nixon/speeches/speech-3876',\n",
       " '/president/cleveland/speeches/message-regarding-venezuelan-british-dispute',\n",
       " '/president/reagan/speeches/speech-3417',\n",
       " '/president/cleveland/speeches/veto-of-military-pension-legislation1',\n",
       " '/president/hayes/speeches/message-regarding-central-american-canal',\n",
       " '/president/fillmore/speeches/message-regarding-compromise-with-texas',\n",
       " '/president/fdroosevelt/speeches/nationalism-and-americanism',\n",
       " '/president/hoover/speeches/third-state-of-the-union-address',\n",
       " '/president/grant/speeches/message-approving-specie-resumption-act',\n",
       " '/president/grant/speeches/speech-3743',\n",
       " '/president/jqadams/speeches/speech-3513',\n",
       " '/president/bharrison/speeches/proclamation-regarding-indian-title-to-land',\n",
       " '/president/cleveland/speeches/declaration-of-us-neutrality',\n",
       " '/president/kennedy/speeches/speech-5765',\n",
       " '/president/vanburen/speeches/speech-3486',\n",
       " '/president/nixon/speeches/speech-3872',\n",
       " '/president/jefferson/speeches/speech-3502',\n",
       " '/president/gwbush/speeches/speech-4542',\n",
       " '/president/kennedy/speeches/speech-3379',\n",
       " '/president/roosevelt/speeches/speech-3775',\n",
       " '/president/madison/speeches/speech-3627',\n",
       " '/president/grant/speeches/message-submitting-state-constitutions-to-a-vote',\n",
       " '/president/reagan/speeches/speech-5450',\n",
       " '/president/eisenhower/speeches/speech-3357',\n",
       " '/president/hoover/speeches/statement-regarding-business-and-unemployment',\n",
       " '/president/clinton/speeches/speech-3436',\n",
       " '/president/grant/speeches/speech-3557',\n",
       " '/president/obama/speeches/second-inaugural-address',\n",
       " '/president/fdroosevelt/speeches/speech-3308',\n",
       " '/president/cleveland/speeches/speech-3571',\n",
       " '/president/lbjohnson/speeches/speech-5904',\n",
       " '/president/fdroosevelt/speeches/speech-3314',\n",
       " '/president/reagan/speeches/speech-5682',\n",
       " '/president/madison/speeches/speech-3623',\n",
       " '/president/clinton/speeches/speech-3926',\n",
       " '/president/reagan/speeches/speech-5452',\n",
       " '/president/lbjohnson/speeches/speech-3389',\n",
       " '/president/fdroosevelt/speeches/speech-3568',\n",
       " '/president/adams/speeches/speech-3942',\n",
       " '/president/lbjohnson/speeches/speech-3382',\n",
       " '/president/obama/speeches/speech-4427',\n",
       " '/president/fdroosevelt/speeches/speech-3328',\n",
       " '/president/bush/speeches/speech-3423',\n",
       " '/president/polk/speeches/message-regarding-increase-in-military-force',\n",
       " '/president/kennedy/speeches/speech-5954',\n",
       " '/president/nixon/speeches/speech-3881',\n",
       " '/president/coolidge/speeches/speech-3809',\n",
       " '/president/madison/speeches/speech-3482',\n",
       " '/president/lbjohnson/speeches/speech-5941',\n",
       " '/president/tyler/speeches/message-regarding-us-mexican-affairs',\n",
       " '/president/lbjohnson/speeches/speech-5903',\n",
       " '/president/jackson/speeches/speech-3631',\n",
       " '/president/lbjohnson/speeches/speech-5659',\n",
       " '/president/lbjohnson/speeches/speech-5912',\n",
       " '/president/gwbush/speeches/remarks-at-the-republican-national-convention',\n",
       " '/president/nixon/speeches/speech-4638',\n",
       " '/president/gwbush/speeches/address-to-the-nation-on-iraq',\n",
       " '/president/tyler/speeches/message-regarding-indian-affairs-in-florida',\n",
       " '/president/reagan/speeches/speech-5856',\n",
       " '/president/reagan/speeches/speech-3412',\n",
       " '/president/pierce/speeches/speech-3553',\n",
       " '/president/jefferson/speeches/speech-3722',\n",
       " '/president/lbjohnson/speeches/speech-3386',\n",
       " '/president/lbjohnson/speeches/speech-3525',\n",
       " '/president/bush/speeches/speech-3427',\n",
       " '/president/cleveland/speeches/speech-3762',\n",
       " '/president/jackson/speeches/speech-3644',\n",
       " '/president/reagan/speeches/speech-5676',\n",
       " '/president/clinton/speeches/speech-3925',\n",
       " '/president/harding/speeches/the-republican-party',\n",
       " '/president/polk/speeches/message-regarding-establishment-of-the-french-republic',\n",
       " '/president/washington/speeches/speech-3446',\n",
       " '/president/arthur/speeches/speech-3754',\n",
       " '/president/jackson/speeches/speech-3641',\n",
       " '/president/lbjohnson/speeches/speech-5901',\n",
       " '/president/obama/speeches/2012-election-night-victory-speech',\n",
       " '/president/carter/speeches/speech-3399',\n",
       " '/president/lbjohnson/speeches/speech-5934',\n",
       " '/president/tyler/speeches/veto-message-regarding-import-duties',\n",
       " '/president/fdroosevelt/speeches/enduring-popular-government',\n",
       " '/president/wilson/speeches/speech-3803',\n",
       " '/president/bharrison/speeches/speech-3765',\n",
       " '/president/jefferson/speeches/speech-3478',\n",
       " '/president/kennedy/speeches/speech-3368',\n",
       " '/president/washington/speeches/speech-3453',\n",
       " '/president/bush/speeches/speech-5605',\n",
       " '/president/lbjohnson/speeches/speech-4033',\n",
       " '/president/tyler/speeches/message-to-congress-regarding-us-hawaiian-relations',\n",
       " '/president/lbjohnson/speeches/speech-4035',\n",
       " '/president/obama/speeches/remarks-at-the-50th-anniversary-of-the-selma-marches',\n",
       " '/president/bharrison/speeches/speech-accepting-the-republican-nomination',\n",
       " '/president/jefferson/speeches/speech-3480',\n",
       " '/president/reagan/speeches/speech-5865',\n",
       " '/president/hoover/speeches/statement-on-foreign-debts',\n",
       " '/president/taft/speeches/speech-3782',\n",
       " '/president/hoover/speeches/message-regarding-london-naval-treaty',\n",
       " '/president/buchanan/speeches/message-to-congress-transmitting-the-constitution-of-kansas',\n",
       " '/president/lbjohnson/speeches/speech-5914',\n",
       " '/president/madison/speeches/speech-3628',\n",
       " '/president/cleveland/speeches/message-regarding-chinese-immigrant-workers',\n",
       " '/president/polk/speeches/message-requesting-the-creation-of-an-oregon-territory',\n",
       " '/president/lbjohnson/speeches/speech-5918',\n",
       " '/president/fdroosevelt/speeches/speech-3303',\n",
       " '/president/wilson/speeches/speech-3788',\n",
       " '/president/obama/speeches/remarks-on-the-afghanistan-pullout',\n",
       " '/president/roosevelt/speeches/announcement-of-the-death-of-president-mckinley',\n",
       " '/president/roosevelt/speeches/message-regarding-the-panamanian-revolution',\n",
       " '/president/bharrison/speeches/address-honoring-president-garfield',\n",
       " '/president/adams/speeches/speech-3465',\n",
       " '/president/harding/speeches/liberty-under-the-law',\n",
       " '/president/fdroosevelt/speeches/speech-3324',\n",
       " '/president/arthur/speeches/message-regarding-settlement-on-indian-territory',\n",
       " '/president/jefferson/speeches/speech-3495',\n",
       " '/president/reagan/speeches/speech-5854',\n",
       " '/president/eisenhower/speeches/speech-3359',\n",
       " '/president/wilson/speeches/speech-3795',\n",
       " '/president/madison/speeches/speech-3622',\n",
       " '/president/polk/speeches/message-regarding-treaty-with-cherokees',\n",
       " '/president/carter/speeches/speech-3401',\n",
       " '/president/nixon/speeches/speech-3885',\n",
       " '/president/cleveland/speeches/speech-3760',\n",
       " '/president/polk/speeches/fourth-annual-message-to-congress',\n",
       " '/president/vanburen/speeches/message-regarding-disputes-on-the-maine-canadian-border',\n",
       " '/president/jqadams/speeches/speech-3514',\n",
       " '/president/fdroosevelt/speeches/speech-3310',\n",
       " '/president/pierce/speeches/speech-3730',\n",
       " '/president/roosevelt/speeches/speech-3779',\n",
       " '/president/obama/speeches/address-to-the-nation-on-immigration',\n",
       " '/president/coolidge/speeches/speech-3811',\n",
       " '/president/johnson/speeches/veto-message-regarding-rebel-state-government',\n",
       " '/president/fdroosevelt/speeches/speech-3280',\n",
       " '/president/tyler/speeches/veto-message-regarding-infrastructure-improvements',\n",
       " '/president/johnson/speeches/veto-message-on-civil-rights-legislation',\n",
       " '/president/vanburen/speeches/speech-3724',\n",
       " '/president/obama/speeches/remarks-on-the-american-recovery-and-reinvestment-act',\n",
       " '/president/fdroosevelt/speeches/speech-3302',\n",
       " '/president/grant/speeches/proclamation-celebrating-the-hundredth-anniversary-of-independence',\n",
       " '/president/carter/speeches/speech-3396',\n",
       " '/president/carter/speeches/speech-5535',\n",
       " '/president/clinton/speeches/speech-4594',\n",
       " '/president/gwbush/speeches/second-inaugural-address1',\n",
       " '/president/fdroosevelt/speeches/speech-3318',\n",
       " '/president/harding/speeches/readjustment',\n",
       " '/president/washington/speeches/speech-3462',\n",
       " '/president/lbjohnson/speeches/speech-4037',\n",
       " '/president/lbjohnson/speeches/speech-5922',\n",
       " '/president/obama/speeches/2014-state-of-the-union-address',\n",
       " '/president/jefferson/speeches/speech-3476',\n",
       " '/president/ford/speeches/speech-5500',\n",
       " '/president/nixon/speeches/speech-3882',\n",
       " '/president/carter/speeches/speech-5546',\n",
       " '/president/jackson/speeches/message-regarding-indian-removal',\n",
       " '/president/clinton/speeches/speech-4599',\n",
       " '/president/ford/speeches/speech-5501',\n",
       " '/president/bush/speeches/speech-3428',\n",
       " '/president/jackson/speeches/message-regarding-the-bank-of-the-united-states',\n",
       " '/president/johnson/speeches/establishing-rewards-for-the-arrest-of-certain-confederate-officers',\n",
       " '/president/fillmore/speeches/speech-3552',\n",
       " '/president/lincoln/speeches/speech-3506',\n",
       " '/president/reagan/speeches/speech-5858',\n",
       " '/president/johnson/speeches/message-reestablishing-governments-in-former-confederate-states',\n",
       " '/president/johnson/speeches/veto-message-on-admitting-colorado-into-the-union',\n",
       " '/president/johnson/speeches/veto-message-on-legislation-amending-the-judiciary',\n",
       " '/president/washington/speeches/speech-3455',\n",
       " '/president/obama/speeches/remarks-to-the-people-of-cuba',\n",
       " '/president/obama/speeches/address-on-the-end-of-the-combat-mission-in-iraq',\n",
       " '/president/obama/speeches/speech-on-american-diplomacy-in-the-middle-east-and-north-africa',\n",
       " '/president/kennedy/speeches/speech-5950',\n",
       " '/president/buchanan/speeches/speech-3733',\n",
       " '/president/reagan/speeches/speech-3410',\n",
       " '/president/arthur/speeches/veto-of-the-chinese-exclusion-act',\n",
       " '/president/truman/speeches/speech-3821',\n",
       " '/president/washington/speeches/speech-3452',\n",
       " '/president/wilson/speeches/message-regarding-tariff-duties',\n",
       " '/president/tyler/speeches/message-regarding-disturbances-in-rhode-island',\n",
       " '/president/bush/speeches/speech-5526',\n",
       " '/president/reagan/speeches/speech-3413',\n",
       " '/president/lbjohnson/speeches/speech-4032',\n",
       " '/president/hoover/speeches/veto-messages-regarding-emergency-adjusted-compensation-act',\n",
       " '/president/grant/speeches/speech-3747',\n",
       " '/president/washington/speeches/speech-3447',\n",
       " '/president/fillmore/speeches/message-regarding-disturbance-in-boston',\n",
       " '/president/johnson/speeches/message-proposing-constitutional-amendments',\n",
       " '/president/polk/speeches/message-regarding-the-war-with-mexico',\n",
       " '/president/lbjohnson/speeches/speech-4040',\n",
       " '/president/fdroosevelt/speeches/speech-3313',\n",
       " '/president/pierce/speeches/speech-3727',\n",
       " '/president/hoover/speeches/campaign-speech-in-st-paul-minnesota',\n",
       " '/president/polk/speeches/announcement-of-peace-treaty-with-mexico',\n",
       " '/president/hayes/speeches/speech-3751',\n",
       " '/president/gwbush/speeches/speech-on-new-mother-and-child-hiv-prevention-initiative',\n",
       " '/president/gwbush/speeches/speech-4464',\n",
       " '/president/truman/speeches/speech-3344',\n",
       " '/president/lincoln/speeches/speech-3511',\n",
       " '/president/vanburen/speeches/speech-3726',\n",
       " '/president/fdroosevelt/speeches/speech-3304',\n",
       " '/president/pierce/speeches/speech-3729',\n",
       " '/president/kennedy/speeches/speech-5741',\n",
       " '/president/lincoln/speeches/speech-3738',\n",
       " '/president/hayes/speeches/message-regarding-railroad-strike',\n",
       " '/president/buchanan/speeches/message-on-resolutions-of-virginia',\n",
       " '/president/clinton/speeches/speech-4598',\n",
       " '/president/jefferson/speeches/speech-3471',\n",
       " '/president/kennedy/speeches/speech-5766',\n",
       " '/president/reagan/speeches/speech-3415',\n",
       " '/president/reagan/speeches/speech-5457',\n",
       " '/president/clinton/speeches/speech-3434',\n",
       " '/president/ford/speeches/speech-3392',\n",
       " '/president/hayes/speeches/veto-of-bland-allison-act',\n",
       " '/president/grant/speeches/message-regarding-unification-of-germany',\n",
       " '/president/carter/speeches/speech-3397',\n",
       " '/president/fillmore/speeches/third-annual-message1',\n",
       " '/president/johnson/speeches/message-restoring-tennessee-to-former-status',\n",
       " '/president/clinton/speeches/speech-3443',\n",
       " '/president/fdroosevelt/speeches/speech-3307',\n",
       " '/president/garfield/speeches/speech-3559',\n",
       " '/president/jqadams/speeches/speech-3484',\n",
       " '/president/reagan/speeches/speech-5852',\n",
       " '/president/buchanan/speeches/message-on-the-capture-of-the-wildfire',\n",
       " '/president/hayes/speeches/veto-message-regarding-immigration-legislation',\n",
       " '/president/wilson/speeches/speech-3567',\n",
       " '/president/buchanan/speeches/speech-3554']"
      ]
     },
     "execution_count": 4,
     "metadata": {},
     "output_type": "execute_result"
    }
   ],
   "source": [
    "from bs4 import BeautifulSoup\n",
    "import requests\n",
    "import re\n",
    "\n",
    "\n",
    "def get_speech_links():\n",
    "    \"\"\"Scrapes a list of links to speeches\"\"\"\n",
    "    base_url = 'http://millercenter.org/president/speeches/'\n",
    "    r = requests.get(base_url)\n",
    "    soup = BeautifulSoup(r.text, 'html.parser')\n",
    "    \n",
    "    little_soup = soup.find_all(\"a\", {\"href\": re.compile(r\"\"\"\n",
    "    \\w+           # One or more word characters\n",
    "    /             # A forward slash\n",
    "    \\w+           # One or more word characters\n",
    "    /speeches/    # Literally\n",
    "    .*            # Any number of characters, or none\n",
    "    $             # Ensure the end of the string is met, no spaces allowed!\n",
    "    \"\"\", re.VERBOSE)})\n",
    "    \n",
    "    links = {a['href'] for a in little_soup}\n",
    "    return links\n",
    "\n",
    "\n",
    "links = list(get_speech_links())\n",
    "links"
   ]
  },
  {
   "cell_type": "markdown",
   "metadata": {
    "slideshow": {
     "slide_type": "subslide"
    }
   },
   "source": [
    "## Text Analysis\n",
    "\n",
    "`^\\s*\\S+(?:\\s+\\S+){4,}\\s*$`"
   ]
  },
  {
   "cell_type": "code",
   "execution_count": 5,
   "metadata": {
    "collapsed": false,
    "slideshow": {
     "slide_type": "subslide"
    }
   },
   "outputs": [
    {
     "name": "stdout",
     "output_type": "stream",
     "text": [
      "For so long as\n",
      "Milton's works, whether his prose or his verse, shall exist, so long\n",
      "there will be abundant proof that no subject, however important,\n",
      "however sublime, can demand greater force of expression than is within\n",
      "the compass of the English language.\n",
      "\n",
      "I have no fear of judges familiar with original HOMER. They need not\n",
      "be told that a translation of him is an arduous enterprise, and as\n",
      "such, entitled to some favor.\n"
     ]
    }
   ],
   "source": [
    "with open('iliad.txt', 'r') as iliad:\n",
    "    iliad = iliad.read()\n",
    "    print(iliad[10052:10475])"
   ]
  },
  {
   "cell_type": "code",
   "execution_count": 6,
   "metadata": {
    "collapsed": false,
    "slideshow": {
     "slide_type": "subslide"
    }
   },
   "outputs": [
    {
     "name": "stdout",
     "output_type": "stream",
     "text": [
      "With Reg Ex: 184266\n",
      "With the python split method: 177140\n"
     ]
    }
   ],
   "source": [
    "pattern = re.compile(r'''\n",
    "\n",
    "\\s*    # A Space Character, or not.\n",
    "(\\w+)  # One or more words Characters\n",
    "\\s*    # Another Space Character, or not.\n",
    "\n",
    "''', re.X)\n",
    "\n",
    "matches = pattern.findall(iliad)\n",
    "\n",
    "print(\"With Reg Ex:\", len(matches))\n",
    "\n",
    "print(\"With the python split method:\", len(iliad.split()))"
   ]
  },
  {
   "cell_type": "code",
   "execution_count": 7,
   "metadata": {
    "collapsed": false,
    "slideshow": {
     "slide_type": "subslide"
    }
   },
   "outputs": [
    {
     "name": "stdout",
     "output_type": "stream",
     "text": [
      "With Reg Ex: 25\n"
     ]
    }
   ],
   "source": [
    "pattern = re.compile(r'''\n",
    "\n",
    "# Matches full sentences pertaining to war.\n",
    "\n",
    ".+     # Any Character one or more times.\n",
    "\\s+    # A white space character, one or more times\n",
    "war    # The string 'war'\n",
    "\\s+    # A white space character, one or more times\n",
    ".+     # Any Character one or more times.\n",
    "\\.     # A Period, literally.\n",
    "\n",
    "''', re.X)\n",
    "\n",
    "matches = pattern.findall(iliad)\n",
    "\n",
    "print(\"With Reg Ex:\", len(matches))"
   ]
  },
  {
   "cell_type": "markdown",
   "metadata": {
    "nbpresent": {
     "id": "b0fb0727-91c8-4ddb-986c-d466e889ffbf"
    },
    "slideshow": {
     "slide_type": "slide"
    }
   },
   "source": [
    "# Validation"
   ]
  },
  {
   "cell_type": "markdown",
   "metadata": {
    "slideshow": {
     "slide_type": "subslide"
    }
   },
   "source": [
    "## HTML5 Form Validation\n",
    "\n",
    "https://developer.mozilla.org/en-US/docs/Web/Guide/HTML/HTML5/Constraint_validation"
   ]
  },
  {
   "cell_type": "markdown",
   "metadata": {
    "slideshow": {
     "slide_type": "fragment"
    }
   },
   "source": [
    "`(\\+\\d{1,2})?(-|\\()?(\\d{10}|(\\d{3}[\\-|\\)]{0,2}){2}\\d{4})$`"
   ]
  },
  {
   "cell_type": "markdown",
   "metadata": {
    "slideshow": {
     "slide_type": "fragment"
    }
   },
   "source": [
    "`^[a-z A-Z]{1,}\\S$`"
   ]
  },
  {
   "cell_type": "markdown",
   "metadata": {
    "slideshow": {
     "slide_type": "fragment"
    }
   },
   "source": [
    "`\\w+@\\w\\.[a-z]{2,}`\n",
    "`\\w+@[\\w_-]\\.[a-z]{2,}`"
   ]
  },
  {
   "cell_type": "code",
   "execution_count": 8,
   "metadata": {
    "collapsed": false,
    "slideshow": {
     "slide_type": "subslide"
    }
   },
   "outputs": [
    {
     "data": {
      "text/html": [
       "\n",
       "<input name='zipcode' placeholder=\"zipcode\" pattern=\\d{5}>"
      ],
      "text/plain": [
       "<IPython.core.display.HTML object>"
      ]
     },
     "metadata": {},
     "output_type": "display_data"
    }
   ],
   "source": [
    "%%html\n",
    "\n",
    "<input name='zipcode' placeholder=\"zipcode\" pattern=\\d{5}>"
   ]
  },
  {
   "cell_type": "code",
   "execution_count": 9,
   "metadata": {
    "collapsed": false,
    "slideshow": {
     "slide_type": "subslide"
    }
   },
   "outputs": [
    {
     "data": {
      "text/html": [
       "\n",
       "\n",
       "<label>Type 'javascript' or 'ecmascript'</label>\n",
       "\n",
       "<input pattern=\"(java|ecma)script\" required>\n",
       "\n",
       "<button>Submit</button>\n",
       "\n",
       "<style>\n",
       "\n",
       "input:invalid {\n",
       "  border: 1px solid red;\n",
       "}\n",
       "\n",
       "input:valid {\n",
       "  border: 1px solid green;\n",
       "}\n",
       "    \n",
       "</style>"
      ],
      "text/plain": [
       "<IPython.core.display.HTML object>"
      ]
     },
     "metadata": {},
     "output_type": "display_data"
    }
   ],
   "source": [
    "%%html\n",
    "\n",
    "\n",
    "<label>Type 'javascript' or 'ecmascript'</label>\n",
    "\n",
    "<input pattern=\"(java|ecma)script\" required>\n",
    "\n",
    "<button>Submit</button>\n",
    "\n",
    "<style>\n",
    "\n",
    "input:invalid {\n",
    "  border: 1px solid red;\n",
    "}\n",
    "\n",
    "input:valid {\n",
    "  border: 1px solid green;\n",
    "}\n",
    "    \n",
    "</style>"
   ]
  },
  {
   "cell_type": "code",
   "execution_count": 10,
   "metadata": {
    "collapsed": false,
    "nbpresent": {
     "id": "78b7ad8f-0f86-4bd4-80db-ed55004623ed"
    },
    "scrolled": false,
    "slideshow": {
     "slide_type": "subslide"
    }
   },
   "outputs": [
    {
     "data": {
      "text/html": [
       "\n",
       "<input type=\"text\" placeholder=\"Name\" pattern=\"^[a-z A-Z]{1,}\\S$\" required><br>\n",
       "\n",
       "<input type=\"text\" placeholder=\"Phone Number\" pattern='(\\+\\d{1,2})?(-|\\()?(\\d{10}|(\\d{3}[\\-|\\)]{0,2}){2}\\d{4})$' required><br>\n",
       "\n",
       "<input type=\"text\" placeholder=\"E-mail\" pattern='\\w+@\\w\\.[a-z]{2,}' required><br>\n",
       "\n",
       "<button>Done</button>\n",
       "\n",
       "<style>\n",
       "input:invalid {\n",
       "  border: 1px solid red;\n",
       "}\n",
       "\n",
       "input:valid {\n",
       "  border: 1px solid green;\n",
       "}\n",
       "</style>"
      ],
      "text/plain": [
       "<IPython.core.display.HTML object>"
      ]
     },
     "metadata": {},
     "output_type": "display_data"
    }
   ],
   "source": [
    "%%html\n",
    "\n",
    "<input type=\"text\" placeholder=\"Name\" pattern=\"^[a-z A-Z]{1,}\\S$\" required><br>\n",
    "\n",
    "<input type=\"text\" placeholder=\"Phone Number\" pattern='(\\+\\d{1,2})?(-|\\()?(\\d{10}|(\\d{3}[\\-|\\)]{0,2}){2}\\d{4})$' required><br>\n",
    "\n",
    "<input type=\"text\" placeholder=\"E-mail\" pattern='\\w+@\\w\\.[a-z]{2,}' required><br>\n",
    "\n",
    "<button>Done</button>\n",
    "\n",
    "<style>\n",
    "input:invalid {\n",
    "  border: 1px solid red;\n",
    "}\n",
    "\n",
    "input:valid {\n",
    "  border: 1px solid green;\n",
    "}\n",
    "</style>"
   ]
  },
  {
   "cell_type": "markdown",
   "metadata": {
    "nbpresent": {
     "id": "006fc898-e5a3-4bc0-844f-f9afa59c5553"
    },
    "slideshow": {
     "slide_type": "slide"
    }
   },
   "source": [
    "## Django URL Routing"
   ]
  },
  {
   "cell_type": "markdown",
   "metadata": {
    "slideshow": {
     "slide_type": "fragment"
    }
   },
   "source": [
    "Python RegEx \"Named Groups\" ----> Parameter Capturing"
   ]
  },
  {
   "cell_type": "markdown",
   "metadata": {
    "nbpresent": {
     "id": "d517f330-a86f-4ac1-8dca-af7dc28c4b39"
    },
    "slideshow": {
     "slide_type": "subslide"
    }
   },
   "source": [
    "```\n",
    "urlpatterns = [\n",
    "    url(r'^admin/', admin.site.urls),\n",
    "    url(r'^post/detail/(?P<slug>[a-z_A-z]+)$', home),\n",
    "]\n",
    "```"
   ]
  },
  {
   "cell_type": "code",
   "execution_count": 11,
   "metadata": {
    "collapsed": false,
    "slideshow": {
     "slide_type": "subslide"
    }
   },
   "outputs": [],
   "source": [
    "from django.shortcuts import render, get_object_or_404\n",
    "#from .models import Post\n",
    "\n",
    "def post_detail_view(request, slug):\n",
    "    post = Post.objects.get(slug=slug)\n",
    "    # get_object_or_404()\n",
    "    return render(request, 'presidents.html', {'post': post})\n"
   ]
  },
  {
   "cell_type": "markdown",
   "metadata": {
    "nbpresent": {
     "id": "07eeaa43-eff1-4de1-8ced-867ac2b17faa"
    },
    "slideshow": {
     "slide_type": "slide"
    }
   },
   "source": [
    "# Interesting Features"
   ]
  },
  {
   "cell_type": "markdown",
   "metadata": {
    "slideshow": {
     "slide_type": "subslide"
    }
   },
   "source": [
    "## Lookarounds / Extensions"
   ]
  },
  {
   "cell_type": "markdown",
   "metadata": {
    "slideshow": {
     "slide_type": "fragment"
    }
   },
   "source": [
    "- `(?=...)` Positive Lookahead - assert that a pattern matches in the future\n",
    "- `(?!...)` Negative Lookahead - assert a pattern does not match in the future\n",
    "\n",
    "- `(?<=...)` Positive Lookbehind - assert a pattern that must preceed the next expression\n",
    "- `(?<!...)` Negative Loohbehind - assert a pattern that must not preceed the next expression"
   ]
  },
  {
   "cell_type": "markdown",
   "metadata": {
    "slideshow": {
     "slide_type": "subslide"
    }
   },
   "source": [
    "## Characterset Negation"
   ]
  },
  {
   "cell_type": "markdown",
   "metadata": {
    "slideshow": {
     "slide_type": "fragment"
    }
   },
   "source": [
    "`[^!@#$%&*()_+]` Match anything *except* the charset"
   ]
  },
  {
   "cell_type": "markdown",
   "metadata": {
    "slideshow": {
     "slide_type": "subslide"
    }
   },
   "source": [
    "## Lazy Loops\n",
    "\n"
   ]
  },
  {
   "cell_type": "markdown",
   "metadata": {
    "slideshow": {
     "slide_type": "fragment"
    }
   },
   "source": [
    "## \\* is not the same as ?\n",
    "\n",
    "`re.compile('https?://')` will match url addresses with or without the optinal 's'\n",
    "\n",
    "`re.compile('https*://')` may match 'httpssssss://'"
   ]
  },
  {
   "cell_type": "markdown",
   "metadata": {
    "slideshow": {
     "slide_type": "fragment"
    }
   },
   "source": [
    "#### Lazy Quantifier\n",
    "\n",
    "`<div>.*?</div>`  Considers the future"
   ]
  },
  {
   "cell_type": "markdown",
   "metadata": {
    "slideshow": {
     "slide_type": "fragment"
    }
   },
   "source": [
    "note: Don't actually parse html with regular expressions."
   ]
  },
  {
   "cell_type": "markdown",
   "metadata": {
    "nbpresent": {
     "id": "9681e78d-fc8f-490b-821a-abfa12feab9b"
    },
    "slideshow": {
     "slide_type": "slide"
    }
   },
   "source": [
    "#### Conclusion\n",
    "\n",
    "* RegExps are a _Swiss army knife_\n",
    "\n",
    "* Remeber that RegEx has is a language with commands, loops, and flow control\n",
    "\n",
    "* Using Rgular Expressions may be a mistake!\n",
    "\n",
    "* Verbose / Extended Formatting\n",
    "\n"
   ]
  },
  {
   "cell_type": "markdown",
   "metadata": {
    "nbpresent": {
     "id": "5082fecb-48e9-4a5a-97dd-1e7eec1d3af2"
    },
    "slideshow": {
     "slide_type": "slide"
    }
   },
   "source": [
    "![Regex is Easy](http://weknowmemes.com/generator/uploads/generated/g1386776306542781173.jpg \"Regex is easy\")"
   ]
  },
  {
   "cell_type": "markdown",
   "metadata": {
    "nbpresent": {
     "id": "b12685ec-227c-4a3c-b20f-c09eec9bbf8b"
    },
    "slideshow": {
     "slide_type": "slide"
    }
   },
   "source": [
    "#### Slide Deck"
   ]
  },
  {
   "cell_type": "markdown",
   "metadata": {
    "nbpresent": {
     "id": "7bd22301-ef5f-44c0-9a9c-6c688082f4a2"
    },
    "slideshow": {
     "slide_type": "slide"
    }
   },
   "source": [
    "Resources:\n",
    "- Best Tool Ever: https://regex101.com/\n",
    "- RegExper: https://regexper.com/\n",
    "- Python3 Common RegExp Problems: https://docs.python.org/3/howto/regex.html#common-problems\n",
    "- Miller Center: http://millercenter.org"
   ]
  },
  {
   "cell_type": "code",
   "execution_count": null,
   "metadata": {
    "collapsed": true
   },
   "outputs": [],
   "source": []
  }
 ],
 "metadata": {
  "anaconda-cloud": {},
  "celltoolbar": "Slideshow",
  "kernelspec": {
   "display_name": "Python [conda root]",
   "language": "python",
   "name": "conda-root-py"
  },
  "language_info": {
   "codemirror_mode": {
    "name": "ipython",
    "version": 3
   },
   "file_extension": ".py",
   "mimetype": "text/x-python",
   "name": "python",
   "nbconvert_exporter": "python",
   "pygments_lexer": "ipython3",
   "version": "3.5.2"
  },
  "nbpresent": {
   "slides": {
    "00dd8cb7-1ab3-4355-b05a-bf564072eb93": {
     "id": "00dd8cb7-1ab3-4355-b05a-bf564072eb93",
     "prev": "f6705bab-535e-4672-bc50-42dffc4a63ab",
     "regions": {
      "dd27c9fa-0897-4bd4-8363-41b959ffe463": {
       "attrs": {
        "height": 0.8,
        "width": 0.8,
        "x": 0.1,
        "y": 0.1
       },
       "content": {
        "cell": "5082fecb-48e9-4a5a-97dd-1e7eec1d3af2",
        "part": "whole"
       },
       "id": "dd27c9fa-0897-4bd4-8363-41b959ffe463"
      }
     }
    },
    "0e090c07-2498-4b8e-b046-ffd6c4affa9c": {
     "id": "0e090c07-2498-4b8e-b046-ffd6c4affa9c",
     "prev": "85d54499-74ae-4d65-98ca-f3fac8505e65",
     "regions": {
      "4cebd6e8-c92f-4a60-bc75-8fff1b0b2386": {
       "attrs": {
        "height": 0.4,
        "width": 0.8,
        "x": 0.1,
        "y": 0.5
       },
       "content": {
        "cell": "e0323374-29fa-424c-9f41-432947236dd1",
        "part": "whole"
       },
       "id": "4cebd6e8-c92f-4a60-bc75-8fff1b0b2386"
      },
      "cb6b2fc3-83a9-4e04-942f-f4e7d2c4cac9": {
       "attrs": {
        "height": 0.8,
        "width": 0.8,
        "x": 0.1,
        "y": 0.1
       },
       "content": {
        "cell": "78407564-8b67-4a1f-8b8f-467308ae6c45",
        "part": "whole"
       },
       "id": "cb6b2fc3-83a9-4e04-942f-f4e7d2c4cac9"
      }
     }
    },
    "1993a678-073f-4621-aa01-2f278eb5faba": {
     "id": "1993a678-073f-4621-aa01-2f278eb5faba",
     "prev": "25150175-b06f-40e7-9a5d-d2adc9fb2a5f",
     "regions": {
      "0426e547-49ac-4f9d-a4fd-63bdc6e50cea": {
       "attrs": {
        "height": 0.8,
        "width": 0.8,
        "x": 0.1,
        "y": 0.1
       },
       "content": {
        "cell": "d65ac625-1c0d-4b0f-9dec-c2b7b8bb7590",
        "part": "whole"
       },
       "id": "0426e547-49ac-4f9d-a4fd-63bdc6e50cea"
      }
     }
    },
    "2444794e-9f8e-4c4c-8912-e6288226bfb3": {
     "id": "2444794e-9f8e-4c4c-8912-e6288226bfb3",
     "prev": "ade95745-1ebd-4f54-8997-d42a869b17e5",
     "regions": {
      "0bf91335-96fa-46b0-827e-91990579d46c": {
       "attrs": {
        "height": 0.8,
        "width": 0.8,
        "x": 0.1,
        "y": 0.1
       },
       "content": {
        "cell": "62edd4e8-3d61-4424-8bbe-106305c215c0",
        "part": "whole"
       },
       "id": "0bf91335-96fa-46b0-827e-91990579d46c"
      }
     }
    },
    "25150175-b06f-40e7-9a5d-d2adc9fb2a5f": {
     "id": "25150175-b06f-40e7-9a5d-d2adc9fb2a5f",
     "prev": "db8ff18b-2873-4854-a008-9ada4b92b972",
     "regions": {
      "f17b9fcc-95bf-48ed-964a-b0987dbb9ad2": {
       "attrs": {
        "height": 0.8,
        "width": 0.8,
        "x": 0.1,
        "y": 0.1
       },
       "content": {
        "cell": "a4772391-503c-4348-965b-43e905cc379b",
        "part": "whole"
       },
       "id": "f17b9fcc-95bf-48ed-964a-b0987dbb9ad2"
      }
     }
    },
    "2ebac871-8787-423f-83d5-c560fa7d29ba": {
     "id": "2ebac871-8787-423f-83d5-c560fa7d29ba",
     "prev": "8595e8c9-7b06-45e7-bb8a-d1b77bfba4d8",
     "regions": {
      "c41f9572-358c-41f0-ba72-047ed6e568a4": {
       "attrs": {
        "height": 0.8,
        "width": 0.8,
        "x": 0.1,
        "y": 0.1
       },
       "content": {
        "cell": "d517f330-a86f-4ac1-8dca-af7dc28c4b39",
        "part": "whole"
       },
       "id": "c41f9572-358c-41f0-ba72-047ed6e568a4"
      }
     }
    },
    "2fdabce9-ca2b-404c-bdbc-477c3e0051f3": {
     "id": "2fdabce9-ca2b-404c-bdbc-477c3e0051f3",
     "prev": "ee9ce255-0c18-418e-af76-78db5576f999",
     "regions": {
      "16ed9c6d-2a4a-4c59-a1da-f58a179da19e": {
       "attrs": {
        "height": 0.8,
        "width": 0.8,
        "x": 0.1,
        "y": 0.1
       },
       "content": {
        "cell": "514bf993-576a-4569-b49a-e4eabc78bfb3",
        "part": "whole"
       },
       "id": "16ed9c6d-2a4a-4c59-a1da-f58a179da19e"
      }
     }
    },
    "38546e79-f799-4c7c-8171-cf0725e6c6a9": {
     "id": "38546e79-f799-4c7c-8171-cf0725e6c6a9",
     "prev": "686e71a4-c75e-409a-a539-0341c19499f5",
     "regions": {
      "1cb70b80-5714-4366-8f92-3de42ecb1853": {
       "attrs": {
        "height": 0.8,
        "width": 0.8,
        "x": 0.1,
        "y": 0.1
       },
       "content": {
        "cell": "b0fb0727-91c8-4ddb-986c-d466e889ffbf",
        "part": "whole"
       },
       "id": "1cb70b80-5714-4366-8f92-3de42ecb1853"
      }
     }
    },
    "39fc9914-89a7-49dd-b646-c31185e8d83c": {
     "id": "39fc9914-89a7-49dd-b646-c31185e8d83c",
     "prev": "2fdabce9-ca2b-404c-bdbc-477c3e0051f3",
     "regions": {
      "a6a14a0d-039d-43a4-a482-8d95bc8fada8": {
       "attrs": {
        "height": 0.8,
        "width": 0.8,
        "x": 0.1,
        "y": 0.1
       },
       "content": {
        "cell": "b71c918a-a737-4496-aab7-92244f70d3bf",
        "part": "whole"
       },
       "id": "a6a14a0d-039d-43a4-a482-8d95bc8fada8"
      }
     }
    },
    "4be44959-7c8a-4189-b46a-4aa9e841d66f": {
     "id": "4be44959-7c8a-4189-b46a-4aa9e841d66f",
     "prev": "00dd8cb7-1ab3-4355-b05a-bf564072eb93",
     "regions": {
      "44e88a97-6347-4f3e-a4a3-7bbca72c06c4": {
       "attrs": {
        "height": 0.8,
        "width": 0.8,
        "x": 0.1,
        "y": 0.1
       },
       "content": {
        "cell": "b12685ec-227c-4a3c-b20f-c09eec9bbf8b",
        "part": "whole"
       },
       "id": "44e88a97-6347-4f3e-a4a3-7bbca72c06c4"
      }
     }
    },
    "5cd3bcfd-38b0-406f-8c63-eb4037ef6ca1": {
     "id": "5cd3bcfd-38b0-406f-8c63-eb4037ef6ca1",
     "prev": "2444794e-9f8e-4c4c-8912-e6288226bfb3",
     "regions": {
      "f194d0ab-4943-4cf6-9653-3d58c2386285": {
       "attrs": {
        "height": 0.8,
        "width": 0.8,
        "x": 0.1,
        "y": 0.1
       },
       "content": {
        "cell": "07eeaa43-eff1-4de1-8ced-867ac2b17faa",
        "part": "whole"
       },
       "id": "f194d0ab-4943-4cf6-9653-3d58c2386285"
      }
     }
    },
    "686e71a4-c75e-409a-a539-0341c19499f5": {
     "id": "686e71a4-c75e-409a-a539-0341c19499f5",
     "prev": "39fc9914-89a7-49dd-b646-c31185e8d83c",
     "regions": {
      "54d06bc0-0577-4989-96ac-5ed38e97612d": {
       "attrs": {
        "height": 0.8,
        "width": 0.8,
        "x": 0.1,
        "y": 0.1
       },
       "content": {
        "cell": "69eb16a5-68f1-4433-a9d7-54db0d427e58",
        "part": "whole"
       },
       "id": "54d06bc0-0577-4989-96ac-5ed38e97612d"
      }
     }
    },
    "74f15c37-cd9f-487c-b2fb-b2ad6f7d278a": {
     "id": "74f15c37-cd9f-487c-b2fb-b2ad6f7d278a",
     "prev": "5cd3bcfd-38b0-406f-8c63-eb4037ef6ca1",
     "regions": {
      "c87586f4-64dd-4adf-b1db-a635863ab0d6": {
       "attrs": {
        "height": 0.8,
        "width": 0.8,
        "x": 0.1,
        "y": 0.1
       },
       "content": {
        "cell": "cf4e9945-b174-49eb-81eb-3373bbfb89e9",
        "part": "whole"
       },
       "id": "c87586f4-64dd-4adf-b1db-a635863ab0d6"
      }
     }
    },
    "8595e8c9-7b06-45e7-bb8a-d1b77bfba4d8": {
     "id": "8595e8c9-7b06-45e7-bb8a-d1b77bfba4d8",
     "prev": "e6e5e8e8-499b-4946-8a44-c64aeaf9285e",
     "regions": {
      "80782e0f-2c8e-4073-a75a-8c6a03c236e5": {
       "attrs": {
        "height": 0.8,
        "width": 0.8,
        "x": 0.1,
        "y": 0.1
       },
       "content": {
        "cell": "006fc898-e5a3-4bc0-844f-f9afa59c5553",
        "part": "whole"
       },
       "id": "80782e0f-2c8e-4073-a75a-8c6a03c236e5"
      }
     }
    },
    "85d54499-74ae-4d65-98ca-f3fac8505e65": {
     "id": "85d54499-74ae-4d65-98ca-f3fac8505e65",
     "prev": null,
     "regions": {
      "9c13faa3-b3e7-4318-b079-a9383f731070": {
       "attrs": {
        "height": 0.8,
        "width": 0.8,
        "x": 0.1,
        "y": 0.1
       },
       "content": {
        "cell": "46a7e574-07ad-400a-b9f3-14b23dc26415",
        "part": "whole"
       },
       "id": "9c13faa3-b3e7-4318-b079-a9383f731070"
      }
     }
    },
    "ab9f5cfd-ac30-4410-9d47-1f2cfe9cd24e": {
     "id": "ab9f5cfd-ac30-4410-9d47-1f2cfe9cd24e",
     "prev": "4be44959-7c8a-4189-b46a-4aa9e841d66f",
     "regions": {
      "ce0aa7e8-d720-4e15-a8fe-68e3cd983331": {
       "attrs": {
        "height": 0.8,
        "width": 0.8,
        "x": 0.1,
        "y": 0.1
       },
       "content": {
        "cell": "7bd22301-ef5f-44c0-9a9c-6c688082f4a2",
        "part": "whole"
       },
       "id": "ce0aa7e8-d720-4e15-a8fe-68e3cd983331"
      }
     }
    },
    "ade95745-1ebd-4f54-8997-d42a869b17e5": {
     "id": "ade95745-1ebd-4f54-8997-d42a869b17e5",
     "prev": "2ebac871-8787-423f-83d5-c560fa7d29ba",
     "regions": {
      "e6281803-c33c-43af-8bd9-a2988720c3dc": {
       "attrs": {
        "height": 0.8,
        "width": 0.8,
        "x": 0.1,
        "y": 0.1
       },
       "content": {
        "cell": "05af3fa2-92ea-478b-b744-2cafe0da5d4f",
        "part": "whole"
       },
       "id": "e6281803-c33c-43af-8bd9-a2988720c3dc"
      }
     }
    },
    "c9bff4e0-8d49-4559-a4fe-9d306a240af4": {
     "id": "c9bff4e0-8d49-4559-a4fe-9d306a240af4",
     "prev": "0e090c07-2498-4b8e-b046-ffd6c4affa9c",
     "regions": {
      "61c65e0d-f4f8-4aa3-9322-05e1808af03b": {
       "attrs": {
        "height": 0.8,
        "width": 0.8,
        "x": 0.1,
        "y": 0.1
       },
       "content": {
        "cell": "8974b841-42bf-4950-a23a-cf56b9533798",
        "part": "whole"
       },
       "id": "61c65e0d-f4f8-4aa3-9322-05e1808af03b"
      }
     }
    },
    "db8ff18b-2873-4854-a008-9ada4b92b972": {
     "id": "db8ff18b-2873-4854-a008-9ada4b92b972",
     "prev": "c9bff4e0-8d49-4559-a4fe-9d306a240af4",
     "regions": {
      "dba865ef-0801-4058-9c12-df29168f7750": {
       "attrs": {
        "height": 0.8,
        "width": 0.8,
        "x": 0.1,
        "y": 0.1
       },
       "content": {
        "cell": "e054b3eb-f9e1-4646-b92e-94f4f70c287a",
        "part": "whole"
       },
       "id": "dba865ef-0801-4058-9c12-df29168f7750"
      }
     }
    },
    "e6e5e8e8-499b-4946-8a44-c64aeaf9285e": {
     "id": "e6e5e8e8-499b-4946-8a44-c64aeaf9285e",
     "prev": "38546e79-f799-4c7c-8171-cf0725e6c6a9",
     "regions": {
      "2e56fb7c-2829-488c-a78f-27744d6588c1": {
       "attrs": {
        "height": 0.8,
        "width": 0.8,
        "x": 0.1,
        "y": 0.1
       },
       "content": {
        "cell": "78b7ad8f-0f86-4bd4-80db-ed55004623ed",
        "part": "whole"
       },
       "id": "2e56fb7c-2829-488c-a78f-27744d6588c1"
      }
     }
    },
    "ee9ce255-0c18-418e-af76-78db5576f999": {
     "id": "ee9ce255-0c18-418e-af76-78db5576f999",
     "prev": "1993a678-073f-4621-aa01-2f278eb5faba",
     "regions": {
      "671cdb8a-f328-49f2-abb1-61e255597639": {
       "attrs": {
        "height": 0.8,
        "width": 0.8,
        "x": 0.1,
        "y": 0.1
       },
       "content": {
        "cell": "25977d1e-0858-4ec6-917d-1a7affe956d9",
        "part": "whole"
       },
       "id": "671cdb8a-f328-49f2-abb1-61e255597639"
      }
     }
    },
    "f6705bab-535e-4672-bc50-42dffc4a63ab": {
     "id": "f6705bab-535e-4672-bc50-42dffc4a63ab",
     "prev": "f7a64b0f-4d2a-49da-8953-6886a2b3dedd",
     "regions": {
      "3bd6f736-c09b-4e44-b453-51443a8a43d8": {
       "attrs": {
        "height": 0.8,
        "width": 0.8,
        "x": 0.1,
        "y": 0.1
       },
       "content": {
        "cell": "9681e78d-fc8f-490b-821a-abfa12feab9b",
        "part": "whole"
       },
       "id": "3bd6f736-c09b-4e44-b453-51443a8a43d8"
      }
     }
    },
    "f7a64b0f-4d2a-49da-8953-6886a2b3dedd": {
     "id": "f7a64b0f-4d2a-49da-8953-6886a2b3dedd",
     "prev": "74f15c37-cd9f-487c-b2fb-b2ad6f7d278a",
     "regions": {
      "33b9e246-e736-4505-b39f-d92240113483": {
       "attrs": {
        "height": 0.8,
        "width": 0.8,
        "x": 0.1,
        "y": 0.1
       },
       "content": {
        "cell": "57fc5385-fa78-483c-bcd7-9149270e2c80",
        "part": "whole"
       },
       "id": "33b9e246-e736-4505-b39f-d92240113483"
      }
     }
    }
   },
   "themes": {
    "default": "c677a552-21ad-4b3b-8409-e484082a19c1",
    "theme": {
     "c677a552-21ad-4b3b-8409-e484082a19c1": {
      "backgrounds": {
       "backgroundColor": {
        "background-color": "backgroundColor",
        "id": "backgroundColor"
       }
      },
      "id": "c677a552-21ad-4b3b-8409-e484082a19c1",
      "palette": {
       "backgroundColor": {
        "id": "backgroundColor",
        "rgb": [
         0,
         43,
         54
        ]
       },
       "headingColor": {
        "id": "headingColor",
        "rgb": [
         238,
         232,
         213
        ]
       },
       "linkColor": {
        "id": "linkColor",
        "rgb": [
         38,
         139,
         210
        ]
       },
       "mainColor": {
        "id": "mainColor",
        "rgb": [
         147,
         161,
         161
        ]
       }
      },
      "rules": {
       "a": {
        "color": "linkColor"
       },
       "h1": {
        "color": "headingColor",
        "font-family": "Oswald",
        "font-size": 7
       },
       "h2": {
        "color": "headingColor",
        "font-family": "Oswald",
        "font-size": 5
       },
       "h3": {
        "color": "headingColor",
        "font-family": "Oswald",
        "font-size": 3.75
       },
       "h4": {
        "color": "headingColor",
        "font-family": "Oswald",
        "font-size": 3
       },
       "h5": {
        "color": "headingColor",
        "font-family": "Oswald"
       },
       "h6": {
        "color": "headingColor",
        "font-family": "Oswald"
       },
       "h7": {
        "color": "headingColor",
        "font-family": "Oswald"
       },
       "li": {
        "color": "mainColor",
        "font-family": "Lato",
        "font-size": 5
       },
       "p": {
        "color": "mainColor",
        "font-family": "Lato",
        "font-size": 5
       }
      },
      "text-base": {
       "color": "mainColor",
       "font-family": "Lato",
       "font-size": 5
      }
     }
    }
   }
  },
  "widgets": {
   "state": {},
   "version": "1.1.2"
  }
 },
 "nbformat": 4,
 "nbformat_minor": 0
}
