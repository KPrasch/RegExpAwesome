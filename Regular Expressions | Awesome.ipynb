{
 "cells": [
  {
   "cell_type": "markdown",
   "metadata": {
    "collapsed": false,
    "slideshow": {
     "slide_type": "slide"
    }
   },
   "source": [
    "`import re`\n",
    "\n",
    "\n",
    "# Regular Expressions _are_ Awesome\n",
    "### Kieran R. Prasch"
   ]
  },
  {
   "cell_type": "markdown",
   "metadata": {
    "slideshow": {
     "slide_type": "subslide"
    }
   },
   "source": [
    "![](https://imgs.xkcd.com/comics/regular_expressions.png)"
   ]
  },
  {
   "cell_type": "markdown",
   "metadata": {
    "slideshow": {
     "slide_type": "subslide"
    }
   },
   "source": [
    "# Goals"
   ]
  },
  {
   "cell_type": "markdown",
   "metadata": {
    "slideshow": {
     "slide_type": "fragment"
    }
   },
   "source": [
    "- Cover the basics"
   ]
  },
  {
   "cell_type": "markdown",
   "metadata": {
    "slideshow": {
     "slide_type": "fragment"
    }
   },
   "source": [
    "- Share with you a few of my favorite parts about using regular expressions"
   ]
  },
  {
   "cell_type": "markdown",
   "metadata": {
    "slideshow": {
     "slide_type": "fragment"
    }
   },
   "source": [
    "- Code examples"
   ]
  },
  {
   "cell_type": "markdown",
   "metadata": {
    "slideshow": {
     "slide_type": "fragment"
    }
   },
   "source": [
    "- (hopefully) Inspire you to use regex more often"
   ]
  },
  {
   "cell_type": "markdown",
   "metadata": {
    "nbpresent": {
     "id": "78407564-8b67-4a1f-8b8f-467308ae6c45"
    },
    "slideshow": {
     "slide_type": "slide"
    }
   },
   "source": [
    "# What are Regular Expressions?\n",
    "---\n"
   ]
  },
  {
   "cell_type": "markdown",
   "metadata": {
    "nbpresent": {
     "id": "e0323374-29fa-424c-9f41-432947236dd1"
    },
    "slideshow": {
     "slide_type": "fragment"
    }
   },
   "source": [
    "  ###### \"Regular Expressions are boring.\""
   ]
  },
  {
   "cell_type": "markdown",
   "metadata": {
    "slideshow": {
     "slide_type": "fragment"
    }
   },
   "source": [
    "  ###### \"Looks Scary\""
   ]
  },
  {
   "cell_type": "markdown",
   "metadata": {
    "slideshow": {
     "slide_type": "fragment"
    }
   },
   "source": [
    "##### _\"A set of instructions for matching any substring of a specified pattern.\"_ "
   ]
  },
  {
   "cell_type": "code",
   "execution_count": 1,
   "metadata": {
    "collapsed": false,
    "slideshow": {
     "slide_type": "slide"
    }
   },
   "outputs": [
    {
     "data": {
      "text/plain": [
       "'(/^00[1-9](?=\\\\-?[0-9][1-9](?=\\\\-?[0-9][0-9][0-9][1-9]))|00[1-9](?=\\\\-?[0-9][1-9](?=\\\\-?[0-9][0-9][1-9][0-9]))|00[1-9](?=\\\\-?[0-9][1-9](?=\\\\-?[0-9][1-9][0-9][0-9]))|00[1-9](?=\\\\-?[0-9][1-9](?=\\\\-?[1-9][0-9][0-9][0-9]))|00[1-9](?=\\\\-?[1-9][0-9](?=\\\\-?[0-9][0-9][0-9][1-9]))|00[1-9](?=\\\\-?[1-9][0-9](?=\\\\-?[0-9][0-9][1-9][0-9]))|00[1-9](?=\\\\-?[1-9][0-9](?=\\\\-?[0-9][1-9][0-9][0-9]))|00[1-9](?=\\\\-?[1-9][0-9](?=\\\\-?[1-9][0-9][0-9][0-9]))|0[1-9][0-9](?=\\\\-?[0-9][1-9](?=\\\\-?[0-9][0-9][0-9][1-9]))|0[1-9][0-9](?=\\\\-?[0-9][1-9](?=\\\\-?[0-9][0-9][1-9][0-9]))|0[1-9][0-9](?=\\\\-?[0-9][1-9](?=\\\\-?[0-9][1-9][0-9][0-9]))|0[1-9][0-9](?=\\\\-?[0-9][1-9](?=\\\\-?[1-9][0-9][0-9][0-9]))|0[1-9][0-9](?=\\\\-?[1-9][0-9](?=\\\\-?[0-9][0-9][0-9][1-9]))|0[1-9][0-9](?=\\\\-?[1-9][0-9](?=\\\\-?[0-9][0-9][1-9][0-9]))|0[1-9][0-9](?=\\\\-?[1-9][0-9](?=\\\\-?[0-9][1-9][0-9][0-9]))|0[1-9][0-9](?=\\\\-?[1-9][0-9](?=\\\\-?[1-9][0-9][0-9][0-9]))|[1-5][0-9][0-9](?=\\\\-?[0-9][1-9](?=\\\\-?[0-9][0-9][0-9][1-9]))|[1-5][0-9][0-9](?=\\\\-?[0-9][1-9](?=\\\\-?[0-9][0-9][1-9][0-9]))|[1-5][0-9][0-9](?=\\\\-?[0-9][1-9](?=\\\\-?[0-9][1-9][0-9][0-9]))|[1-5][0-9][0-9](?=\\\\-?[0-9][1-9](?=\\\\-?[1-9][0-9][0-9][0-9]))|[1-5][0-9][0-9](?=\\\\-?[1-9][0-9](?=\\\\-?[0-9][0-9][0-9][1-9]))|[1-5][0-9][0-9](?=\\\\-?[1-9][0-9](?=\\\\-?[0-9][0-9][1-9][0-9]))|[1-5][0-9][0-9](?=\\\\-?[1-9][0-9](?=\\\\-?[0-9][1-9][0-9][0-9]))|[1-5][0-9][0-9](?=\\\\-?[1-9][0-9](?=\\\\-?[1-9][0-9][0-9][0-9]))|6[0-5][0-9](?=\\\\-?[0-9][1-9](?=\\\\-?[0-9][0-9][0-9][1-9]))|6[0-5][0-9](?=\\\\-?[0-9][1-9](?=\\\\-?[0-9][0-9][1-9][0-9]))|6[0-5][0-9](?=\\\\-?[0-9][1-9](?=\\\\-?[0-9][1-9][0-9][0-9]))|6[0-5][0-9](?=\\\\-?[0-9][1-9](?=\\\\-?[1-9][0-9][0-9][0-9]))|6[0-5][0-9](?=\\\\-?[1-9][0-9](?=\\\\-?[0-9][0-9][0-9][1-9]))|6[0-5][0-9](?=\\\\-?[1-9][0-9](?=\\\\-?[0-9][0-9][1-9][0-9]))|6[0-5][0-9](?=\\\\-?[1-9][0-9](?=\\\\-?[0-9][1-9][0-9][0-9]))|6[0-5][0-9](?=\\\\-?[1-9][0-9](?=\\\\-?[1-9][0-9][0-9][0-9]))|66[0-5](?=\\\\-?[0-9][1-9](?=\\\\-?[0-9][0-9][0-9][1-9]))|66[0-5](?=\\\\-?[0-9][1-9](?=\\\\-?[0-9][0-9][1-9][0-9]))|66[0-5](?=\\\\-?[0-9][1-9](?=\\\\-?[0-9][1-9][0-9][0-9]))|66[0-5](?=\\\\-?[0-9][1-9](?=\\\\-?[1-9][0-9][0-9][0-9]))|66[0-5](?=\\\\-?[1-9][0-9](?=\\\\-?[0-9][0-9][0-9][1-9]))|66[0-5](?=\\\\-?[1-9][0-9](?=\\\\-?[0-9][0-9][1-9][0-9]))|66[0-5](?=\\\\-?[1-9][0-9](?=\\\\-?[0-9][1-9][0-9][0-9]))|66[0-5](?=\\\\-?[1-9][0-9](?=\\\\-?[1-9][0-9][0-9][0-9]))|66[7-9](?=\\\\-?[0-9][1-9](?=\\\\-?[0-9][0-9][0-9][1-9]))|66[7-9](?=\\\\-?[0-9][1-9](?=\\\\-?[0-9][0-9][1-9][0-9]))|66[7-9](?=\\\\-?[0-9][1-9](?=\\\\-?[0-9][1-9][0-9][0-9]))|66[7-9](?=\\\\-?[0-9][1-9](?=\\\\-?[1-9][0-9][0-9][0-9]))|66[7-9](?=\\\\-?[1-9][0-9](?=\\\\-?[0-9][0-9][0-9][1-9]))|66[7-9](?=\\\\-?[1-9][0-9](?=\\\\-?[0-9][0-9][1-9][0-9]))|66[7-9](?=\\\\-?[1-9][0-9](?=\\\\-?[0-9][1-9][0-9][0-9]))|66[7-9](?=\\\\-?[1-9][0-9](?=\\\\-?[1-9][0-9][0-9][0-9]))|6[7-9][0-9](?=\\\\-?[0-9][1-9](?=\\\\-?[0-9][0-9][0-9][1-9]))|6[7-9][0-9](?=\\\\-?[0-9][1-9](?=\\\\-?[0-9][0-9][1-9][0-9]))|6[7-9][0-9](?=\\\\-?[0-9][1-9](?=\\\\-?[0-9][1-9][0-9][0-9]))|6[7-9][0-9](?=\\\\-?[0-9][1-9](?=\\\\-?[1-9][0-9][0-9][0-9]))|6[7-9][0-9](?=\\\\-?[1-9][0-9](?=\\\\-?[0-9][0-9][0-9][1-9]))|6[7-9][0-9](?=\\\\-?[1-9][0-9](?=\\\\-?[0-9][0-9][1-9][0-9]))|6[7-9][0-9](?=\\\\-?[1-9][0-9](?=\\\\-?[0-9][1-9][0-9][0-9]))|6[7-9][0-9](?=\\\\-?[1-9][0-9](?=\\\\-?[1-9][0-9][0-9][0-9]))|[7-8][0-9][0-9](?=\\\\-?[0-9][1-9](?=\\\\-?[0-9][0-9][0-9][1-9]))|[7-8][0-9][0-9](?=\\\\-?[0-9][1-9](?=\\\\-?[0-9][0-9][1-9][0-9]))|[7-8][0-9][0-9](?=\\\\-?[0-9][1-9](?=\\\\-?[0-9][1-9][0-9][0-9]))|[7-8][0-9][0-9](?=\\\\-?[0-9][1-9](?=\\\\-?[1-9][0-9][0-9][0-9]))|[7-8][0-9][0-9](?=\\\\-?[1-9][0-9](?=\\\\-?[0-9][0-9][0-9][1-9]))|[7-8][0-9][0-9](?=\\\\-?[1-9][0-9](?=\\\\-?[0-9][0-9][1-9][0-9]))|[7-8][0-9][0-9](?=\\\\-?[1-9][0-9](?=\\\\-?[0-9][1-9][0-9][0-9]))|[7-8][0-9][0-9](?=\\\\-?[1-9][0-9](?=\\\\-?[1-9][0-9][0-9][0-9]))$'"
      ]
     },
     "execution_count": 1,
     "metadata": {},
     "output_type": "execute_result"
    }
   ],
   "source": [
    "'(/^00[1-9](?=\\-?[0-9][1-9](?=\\-?[0-9][0-9][0-9][1-9]))|00[1-9](?=\\-?[0-9][1-9](?=\\-?[0-9][0-9][1-9][0-9]))|00[1-9](?=\\-?[0-9][1-9](?=\\-?[0-9][1-9][0-9][0-9]))|00[1-9](?=\\-?[0-9][1-9](?=\\-?[1-9][0-9][0-9][0-9]))|00[1-9](?=\\-?[1-9][0-9](?=\\-?[0-9][0-9][0-9][1-9]))|00[1-9](?=\\-?[1-9][0-9](?=\\-?[0-9][0-9][1-9][0-9]))|00[1-9](?=\\-?[1-9][0-9](?=\\-?[0-9][1-9][0-9][0-9]))|00[1-9](?=\\-?[1-9][0-9](?=\\-?[1-9][0-9][0-9][0-9]))|0[1-9][0-9](?=\\-?[0-9][1-9](?=\\-?[0-9][0-9][0-9][1-9]))|0[1-9][0-9](?=\\-?[0-9][1-9](?=\\-?[0-9][0-9][1-9][0-9]))|0[1-9][0-9](?=\\-?[0-9][1-9](?=\\-?[0-9][1-9][0-9][0-9]))|0[1-9][0-9](?=\\-?[0-9][1-9](?=\\-?[1-9][0-9][0-9][0-9]))|0[1-9][0-9](?=\\-?[1-9][0-9](?=\\-?[0-9][0-9][0-9][1-9]))|0[1-9][0-9](?=\\-?[1-9][0-9](?=\\-?[0-9][0-9][1-9][0-9]))|0[1-9][0-9](?=\\-?[1-9][0-9](?=\\-?[0-9][1-9][0-9][0-9]))|0[1-9][0-9](?=\\-?[1-9][0-9](?=\\-?[1-9][0-9][0-9][0-9]))|[1-5][0-9][0-9](?=\\-?[0-9][1-9](?=\\-?[0-9][0-9][0-9][1-9]))|[1-5][0-9][0-9](?=\\-?[0-9][1-9](?=\\-?[0-9][0-9][1-9][0-9]))|[1-5][0-9][0-9](?=\\-?[0-9][1-9](?=\\-?[0-9][1-9][0-9][0-9]))|[1-5][0-9][0-9](?=\\-?[0-9][1-9](?=\\-?[1-9][0-9][0-9][0-9]))|[1-5][0-9][0-9](?=\\-?[1-9][0-9](?=\\-?[0-9][0-9][0-9][1-9]))|[1-5][0-9][0-9](?=\\-?[1-9][0-9](?=\\-?[0-9][0-9][1-9][0-9]))|[1-5][0-9][0-9](?=\\-?[1-9][0-9](?=\\-?[0-9][1-9][0-9][0-9]))|[1-5][0-9][0-9](?=\\-?[1-9][0-9](?=\\-?[1-9][0-9][0-9][0-9]))|6[0-5][0-9](?=\\-?[0-9][1-9](?=\\-?[0-9][0-9][0-9][1-9]))|6[0-5][0-9](?=\\-?[0-9][1-9](?=\\-?[0-9][0-9][1-9][0-9]))|6[0-5][0-9](?=\\-?[0-9][1-9](?=\\-?[0-9][1-9][0-9][0-9]))|6[0-5][0-9](?=\\-?[0-9][1-9](?=\\-?[1-9][0-9][0-9][0-9]))|6[0-5][0-9](?=\\-?[1-9][0-9](?=\\-?[0-9][0-9][0-9][1-9]))|6[0-5][0-9](?=\\-?[1-9][0-9](?=\\-?[0-9][0-9][1-9][0-9]))|6[0-5][0-9](?=\\-?[1-9][0-9](?=\\-?[0-9][1-9][0-9][0-9]))|6[0-5][0-9](?=\\-?[1-9][0-9](?=\\-?[1-9][0-9][0-9][0-9]))|66[0-5](?=\\-?[0-9][1-9](?=\\-?[0-9][0-9][0-9][1-9]))|66[0-5](?=\\-?[0-9][1-9](?=\\-?[0-9][0-9][1-9][0-9]))|66[0-5](?=\\-?[0-9][1-9](?=\\-?[0-9][1-9][0-9][0-9]))|66[0-5](?=\\-?[0-9][1-9](?=\\-?[1-9][0-9][0-9][0-9]))|66[0-5](?=\\-?[1-9][0-9](?=\\-?[0-9][0-9][0-9][1-9]))|66[0-5](?=\\-?[1-9][0-9](?=\\-?[0-9][0-9][1-9][0-9]))|66[0-5](?=\\-?[1-9][0-9](?=\\-?[0-9][1-9][0-9][0-9]))|66[0-5](?=\\-?[1-9][0-9](?=\\-?[1-9][0-9][0-9][0-9]))|66[7-9](?=\\-?[0-9][1-9](?=\\-?[0-9][0-9][0-9][1-9]))|66[7-9](?=\\-?[0-9][1-9](?=\\-?[0-9][0-9][1-9][0-9]))|66[7-9](?=\\-?[0-9][1-9](?=\\-?[0-9][1-9][0-9][0-9]))|66[7-9](?=\\-?[0-9][1-9](?=\\-?[1-9][0-9][0-9][0-9]))|66[7-9](?=\\-?[1-9][0-9](?=\\-?[0-9][0-9][0-9][1-9]))|66[7-9](?=\\-?[1-9][0-9](?=\\-?[0-9][0-9][1-9][0-9]))|66[7-9](?=\\-?[1-9][0-9](?=\\-?[0-9][1-9][0-9][0-9]))|66[7-9](?=\\-?[1-9][0-9](?=\\-?[1-9][0-9][0-9][0-9]))|6[7-9][0-9](?=\\-?[0-9][1-9](?=\\-?[0-9][0-9][0-9][1-9]))|6[7-9][0-9](?=\\-?[0-9][1-9](?=\\-?[0-9][0-9][1-9][0-9]))|6[7-9][0-9](?=\\-?[0-9][1-9](?=\\-?[0-9][1-9][0-9][0-9]))|6[7-9][0-9](?=\\-?[0-9][1-9](?=\\-?[1-9][0-9][0-9][0-9]))|6[7-9][0-9](?=\\-?[1-9][0-9](?=\\-?[0-9][0-9][0-9][1-9]))|6[7-9][0-9](?=\\-?[1-9][0-9](?=\\-?[0-9][0-9][1-9][0-9]))|6[7-9][0-9](?=\\-?[1-9][0-9](?=\\-?[0-9][1-9][0-9][0-9]))|6[7-9][0-9](?=\\-?[1-9][0-9](?=\\-?[1-9][0-9][0-9][0-9]))|[7-8][0-9][0-9](?=\\-?[0-9][1-9](?=\\-?[0-9][0-9][0-9][1-9]))|[7-8][0-9][0-9](?=\\-?[0-9][1-9](?=\\-?[0-9][0-9][1-9][0-9]))|[7-8][0-9][0-9](?=\\-?[0-9][1-9](?=\\-?[0-9][1-9][0-9][0-9]))|[7-8][0-9][0-9](?=\\-?[0-9][1-9](?=\\-?[1-9][0-9][0-9][0-9]))|[7-8][0-9][0-9](?=\\-?[1-9][0-9](?=\\-?[0-9][0-9][0-9][1-9]))|[7-8][0-9][0-9](?=\\-?[1-9][0-9](?=\\-?[0-9][0-9][1-9][0-9]))|[7-8][0-9][0-9](?=\\-?[1-9][0-9](?=\\-?[0-9][1-9][0-9][0-9]))|[7-8][0-9][0-9](?=\\-?[1-9][0-9](?=\\-?[1-9][0-9][0-9][0-9]))$'"
   ]
  },
  {
   "cell_type": "markdown",
   "metadata": {
    "nbpresent": {
     "id": "8974b841-42bf-4950-a23a-cf56b9533798"
    },
    "slideshow": {
     "slide_type": "slide"
    }
   },
   "source": [
    "\n",
    "![Regex Morpheus](https://i.imgflip.com/gxgvt.jpg \"Morpheus Meme\")\n",
    "\n"
   ]
  },
  {
   "cell_type": "markdown",
   "metadata": {
    "nbpresent": {
     "id": "e054b3eb-f9e1-4646-b92e-94f4f70c287a"
    },
    "slideshow": {
     "slide_type": "slide"
    }
   },
   "source": [
    "## Regular Expression are a special!"
   ]
  },
  {
   "cell_type": "markdown",
   "metadata": {
    "slideshow": {
     "slide_type": "fragment"
    }
   },
   "source": [
    "Its not just a language, but it runs inside languages"
   ]
  },
  {
   "cell_type": "markdown",
   "metadata": {
    "slideshow": {
     "slide_type": "fragment"
    }
   },
   "source": [
    "Whitespace Free"
   ]
  },
  {
   "cell_type": "markdown",
   "metadata": {
    "slideshow": {
     "slide_type": "fragment"
    }
   },
   "source": [
    "Many cups of coffee per character"
   ]
  },
  {
   "cell_type": "markdown",
   "metadata": {
    "nbpresent": {
     "id": "a4772391-503c-4348-965b-43e905cc379b"
    },
    "slideshow": {
     "slide_type": "slide"
    }
   },
   "source": [
    "\n",
    "# Regular Expressions in practice\n",
    "---\n",
    "\n",
    "- Log Parsing\n",
    "- Validation        \n",
    "- Text Analysis\n",
    "- Refactoring\n",
    "- Web Scraping      \n",
    "- Geocoding\n",
    "- Feature Extraction\n",
    "- Command Line Tools\n",
    "- Databases         \n",
    "- Django Routing    \n"
   ]
  },
  {
   "cell_type": "markdown",
   "metadata": {
    "slideshow": {
     "slide_type": "subslide"
    }
   },
   "source": [
    "- `<input pattern=\"(java|ecma)script\" required>`\n",
    "\n",
    "- `<(.*?)>` \n",
    "\n",
    "- `SELECT * FROM YourDatabase WHERE YourField REGEXP 'ty$';`\n",
    "\n",
    "- `url(r'^post/detail/(?P<slug>[a-z_A-z]+)$', home),`"
   ]
  },
  {
   "cell_type": "markdown",
   "metadata": {
    "nbpresent": {
     "id": "d65ac625-1c0d-4b0f-9dec-c2b7b8bb7590"
    },
    "slideshow": {
     "slide_type": "slide"
    }
   },
   "source": [
    "## Language"
   ]
  },
  {
   "cell_type": "markdown",
   "metadata": {
    "slideshow": {
     "slide_type": "notes"
    }
   },
   "source": [
    "Commands are things that you already know - this makes it easier to learn\n",
    "\n",
    "Dialects\n",
    "\n",
    "History"
   ]
  },
  {
   "cell_type": "markdown",
   "metadata": {
    "slideshow": {
     "slide_type": "subslide"
    }
   },
   "source": [
    "## Metacharacters \n",
    "\n",
    ". ^ $ * + ? { } [ ] \\ | ( )\n",
    "\n",
    "## Alphabet\n",
    "\n",
    "abcdefghijklmnopqrstuvwxyzABCDEFGHIJKLMNOPQRSTUVWXYZ\n",
    "\n",
    "## Flags\n",
    "- Ignorecase\n",
    "- Multiline\n",
    "- Global\n",
    "- Verbose"
   ]
  },
  {
   "cell_type": "markdown",
   "metadata": {
    "slideshow": {
     "slide_type": "subslide"
    }
   },
   "source": [
    "## RegEx Essentials \n",
    "\n",
    "1. Quantifiers `*, +, ?`\n",
    "\n",
    "2. Character classes `[abc], [a-z], [^a-z] and \\w`\n",
    "\n",
    "3. Groups `a(bc)+`\n",
    "\n",
    "4. Anchors `^ and $`"
   ]
  },
  {
   "cell_type": "markdown",
   "metadata": {
    "slideshow": {
     "slide_type": "subslide"
    }
   },
   "source": [
    "# abc ![abcregex](./abc.jpg)"
   ]
  },
  {
   "cell_type": "markdown",
   "metadata": {
    "slideshow": {
     "slide_type": "subslide"
    }
   },
   "source": [
    "## Word Character one or more times\n",
    "# \\w+ ![](./wordloop.jpg)"
   ]
  },
  {
   "cell_type": "markdown",
   "metadata": {
    "slideshow": {
     "slide_type": "subslide"
    }
   },
   "source": [
    "## Word Character zero or more times. (optional)\n",
    "# \\w* ![](./wordstar.jpg)"
   ]
  },
  {
   "cell_type": "markdown",
   "metadata": {
    "slideshow": {
     "slide_type": "subslide"
    }
   },
   "source": [
    "## Word Character exactly 3 times.\n",
    "\n",
    "# \\w{3} ![](./wordquantifier.jpg)"
   ]
  },
  {
   "cell_type": "markdown",
   "metadata": {
    "slideshow": {
     "slide_type": "subslide"
    }
   },
   "source": [
    "\n",
    "## Charachter Class exactly three times\n",
    "\n",
    "# [a-c]{3} ![](./charsetquantifier.jpg)"
   ]
  },
  {
   "cell_type": "markdown",
   "metadata": {
    "slideshow": {
     "slide_type": "subslide"
    }
   },
   "source": [
    "![](http://i0.kym-cdn.com/photos/images/facebook/000/572/078/d6d.jpg)"
   ]
  },
  {
   "cell_type": "markdown",
   "metadata": {
    "slideshow": {
     "slide_type": "subslide"
    }
   },
   "source": [
    "## Character class exactly three times, inside a capture group, with both line begenning and end anchors.\n",
    "\n",
    "## ^([a-c]{3})$ ![](./mixup.jpg)"
   ]
  },
  {
   "cell_type": "markdown",
   "metadata": {
    "slideshow": {
     "slide_type": "subslide"
    }
   },
   "source": [
    "## Email Address\n",
    "\n",
    "`\\w+@[\\w_-]\\.[a-z]{2,}`\n",
    "\n",
    "![email](./email2.jpg)"
   ]
  },
  {
   "cell_type": "markdown",
   "metadata": {
    "slideshow": {
     "slide_type": "subslide"
    }
   },
   "source": [
    "## Extended formatting\n",
    "\n",
    "(\\+\\d{1,2})?(-|\\()?(\\d{10}|(\\d{3}[\\-|\\)]{0,2}){2}\\d{4})$"
   ]
  },
  {
   "cell_type": "code",
   "execution_count": 2,
   "metadata": {
    "collapsed": false,
    "slideshow": {
     "slide_type": "fragment"
    }
   },
   "outputs": [
    {
     "ename": "NameError",
     "evalue": "name 're' is not defined",
     "output_type": "error",
     "traceback": [
      "\u001b[0;31m---------------------------------------------------------------------------\u001b[0m",
      "\u001b[0;31mNameError\u001b[0m                                 Traceback (most recent call last)",
      "\u001b[0;32m<ipython-input-2-c4686f28b6d7>\u001b[0m in \u001b[0;36m<module>\u001b[0;34m()\u001b[0m\n\u001b[0;32m----> 1\u001b[0;31m p = re.compile(r\"\"\"\n\u001b[0m\u001b[1;32m      2\u001b[0m \u001b[0;34m\u001b[0m\u001b[0m\n\u001b[1;32m      3\u001b[0m \u001b[0;34m(\u001b[0m\u001b[0;31m\\\u001b[0m\u001b[0;34m+\u001b[0m\u001b[0;31m\\\u001b[0m\u001b[0md\u001b[0m\u001b[0;34m{\u001b[0m\u001b[0;36m1\u001b[0m\u001b[0;34m,\u001b[0m\u001b[0;36m2\u001b[0m\u001b[0;34m}\u001b[0m\u001b[0;34m)\u001b[0m\u001b[0;31m?\u001b[0m               \u001b[0;31m# Optional Country Code +1 or perhaps +22\u001b[0m\u001b[0;34m\u001b[0m\u001b[0m\n\u001b[1;32m      4\u001b[0m (-|\\()?                    # Optional hyphen or open parenths for the area code.\n\u001b[1;32m      5\u001b[0m (\\d{10}                    # Try and match ten digits exactly\n",
      "\u001b[0;31mNameError\u001b[0m: name 're' is not defined"
     ]
    }
   ],
   "source": [
    "p = re.compile(r\"\"\"\n",
    "\n",
    "(\\+\\d{1,2})?               # Optional Country Code +1 or perhaps +22\n",
    "(-|\\()?                    # Optional hyphen or open parenths for the area code.\n",
    "(\\d{10}                    # Try and match ten digits exactly\n",
    "|                          # Else\n",
    "(\\d{3}                     # Match three digits\n",
    "[\\-|\\)]{0,2})              # Hypen or close parenths zero through 2 times (to account for -))  \n",
    "{2}                        # Repeat to match the next three digits\n",
    "\\d{4})                     # The remaining four digits\n",
    "$                          # Ensure nothing else follows \n",
    "\n",
    "\n",
    "\"\"\", re.VERBOSE)"
   ]
  },
  {
   "cell_type": "markdown",
   "metadata": {
    "slideshow": {
     "slide_type": "subslide"
    }
   },
   "source": [
    "## Matching against many types of phone numbers\n",
    "\n",
    "![Phone Number](phonenumber.jpg 'regex')"
   ]
  },
  {
   "cell_type": "markdown",
   "metadata": {
    "nbpresent": {
     "id": "25977d1e-0858-4ec6-917d-1a7affe956d9"
    },
    "slideshow": {
     "slide_type": "slide"
    }
   },
   "source": [
    "# Examples"
   ]
  },
  {
   "cell_type": "markdown",
   "metadata": {
    "slideshow": {
     "slide_type": "subslide"
    }
   },
   "source": [
    "## Command line\n",
    "\n",
    "`$ tree -h -I '*.pyc|__pycache__'` - Getting a clean look at the file tree\n",
    "\n",
    "`$ cat syslog auth.log | grep -E '([128-255]{3}\\.)*?[100-255]{3}'` - Searching for certain IPv4 addresses"
   ]
  },
  {
   "cell_type": "markdown",
   "metadata": {
    "slideshow": {
     "slide_type": "subslide"
    }
   },
   "source": [
    "## Web Scraping"
   ]
  },
  {
   "cell_type": "code",
   "execution_count": null,
   "metadata": {
    "collapsed": false,
    "scrolled": true,
    "slideshow": {
     "slide_type": "fragment"
    }
   },
   "outputs": [],
   "source": [
    "from bs4 import BeautifulSoup\n",
    "import requests\n",
    "import re\n",
    "\n",
    "\n",
    "def get_speech_links():\n",
    "    \"\"\"Scrapes a list of links to speeches\"\"\"\n",
    "    base_url = 'http://millercenter.org/president/speeches/'\n",
    "    r = requests.get(base_url)\n",
    "    soup = BeautifulSoup(r.text, 'html.parser')\n",
    "    \n",
    "    little_soup = soup.find_all(\"a\", {\"href\": re.compile(r\"\"\"\n",
    "    \\w+           # One or more word characters\n",
    "    /             # A forward slash\n",
    "    \\w+           # One or more word characters\n",
    "    /speeches/    # Literally\n",
    "    .*            # Any number of characters, or none\n",
    "    $             # Ensure the end of the string is met, no spaces allowed!\n",
    "    \"\"\", re.VERBOSE)})\n",
    "    \n",
    "    links = {a['href'] for a in little_soup}\n",
    "    return links\n",
    "\n",
    "\n",
    "links = list(get_speech_links())\n",
    "links"
   ]
  },
  {
   "cell_type": "markdown",
   "metadata": {
    "slideshow": {
     "slide_type": "subslide"
    }
   },
   "source": [
    "## Text Analysis\n",
    "\n",
    "`^\\s*\\S+(?:\\s+\\S+){4,}\\s*$`"
   ]
  },
  {
   "cell_type": "code",
   "execution_count": null,
   "metadata": {
    "collapsed": false,
    "slideshow": {
     "slide_type": "subslide"
    }
   },
   "outputs": [],
   "source": [
    "with open('iliad.txt', 'r') as iliad:\n",
    "    iliad = iliad.read()\n",
    "    print(iliad[10052:10475])"
   ]
  },
  {
   "cell_type": "code",
   "execution_count": null,
   "metadata": {
    "collapsed": false,
    "slideshow": {
     "slide_type": "subslide"
    }
   },
   "outputs": [],
   "source": [
    "pattern = re.compile(r'''\n",
    "\n",
    "\\s*    # A Space Character, or not.\n",
    "(\\w+)  # One or more words Characters\n",
    "\\s*    # Another Space Character, or not.\n",
    "\n",
    "''', re.X)\n",
    "\n",
    "matches = pattern.findall(iliad)\n",
    "\n",
    "print(\"With Reg Ex:\", len(matches))\n",
    "\n",
    "print(\"With the python split method:\", len(iliad.split()))"
   ]
  },
  {
   "cell_type": "code",
   "execution_count": null,
   "metadata": {
    "collapsed": false,
    "slideshow": {
     "slide_type": "subslide"
    }
   },
   "outputs": [],
   "source": [
    "pattern = re.compile(r'''\n",
    "\n",
    "# Matches full sentences pertaining to war.\n",
    "\n",
    ".+     # Any Character one or more times.\n",
    "\\s+    # A white space character, one or more times\n",
    "war    # The string 'war'\n",
    "\\s+    # A white space character, one or more times\n",
    ".+     # Any Character one or more times.\n",
    "\\.     # A Period, literally.\n",
    "\n",
    "''', re.X)\n",
    "\n",
    "matches = pattern.findall(iliad)\n",
    "\n",
    "print(\"With Reg Ex:\", len(matches))"
   ]
  },
  {
   "cell_type": "markdown",
   "metadata": {
    "nbpresent": {
     "id": "b0fb0727-91c8-4ddb-986c-d466e889ffbf"
    },
    "slideshow": {
     "slide_type": "slide"
    }
   },
   "source": [
    "# Validation"
   ]
  },
  {
   "cell_type": "markdown",
   "metadata": {
    "slideshow": {
     "slide_type": "subslide"
    }
   },
   "source": [
    "## HTML5 Form Validation\n",
    "\n",
    "https://developer.mozilla.org/en-US/docs/Web/Guide/HTML/HTML5/Constraint_validation"
   ]
  },
  {
   "cell_type": "markdown",
   "metadata": {
    "slideshow": {
     "slide_type": "fragment"
    }
   },
   "source": [
    "`(\\+\\d{1,2})?(-|\\()?(\\d{10}|(\\d{3}[\\-|\\)]{0,2}){2}\\d{4})$`"
   ]
  },
  {
   "cell_type": "markdown",
   "metadata": {
    "slideshow": {
     "slide_type": "fragment"
    }
   },
   "source": [
    "`^[a-z A-Z]{1,}\\S$`"
   ]
  },
  {
   "cell_type": "markdown",
   "metadata": {
    "slideshow": {
     "slide_type": "fragment"
    }
   },
   "source": [
    "`\\w+@\\w\\.[a-z]{2,}`\n",
    "`\\w+@[\\w_-]\\.[a-z]{2,}`"
   ]
  },
  {
   "cell_type": "code",
   "execution_count": 4,
   "metadata": {
    "collapsed": false,
    "slideshow": {
     "slide_type": "subslide"
    }
   },
   "outputs": [
    {
     "data": {
      "text/html": [
       "\n",
       "<input name='zipcode' placeholder=\"zipcode\" pattern=\\d{5}>"
      ],
      "text/plain": [
       "<IPython.core.display.HTML object>"
      ]
     },
     "metadata": {},
     "output_type": "display_data"
    }
   ],
   "source": [
    "%%html\n",
    "\n",
    "<input name='zipcode' placeholder=\"zipcode\" pattern=\\d{5}>"
   ]
  },
  {
   "cell_type": "code",
   "execution_count": 5,
   "metadata": {
    "collapsed": false,
    "slideshow": {
     "slide_type": "subslide"
    }
   },
   "outputs": [
    {
     "data": {
      "text/html": [
       "\n",
       "\n",
       "<label>Type 'javascript' or 'ecmascript'</label>\n",
       "\n",
       "<input pattern=\"(java|ecma)script\" required>\n",
       "\n",
       "<button>Submit</button>\n",
       "\n",
       "<style>\n",
       "\n",
       "input:invalid {\n",
       "  border: 1px solid red;\n",
       "}\n",
       "\n",
       "input:valid {\n",
       "  border: 1px solid green;\n",
       "}\n",
       "    \n",
       "</style>"
      ],
      "text/plain": [
       "<IPython.core.display.HTML object>"
      ]
     },
     "metadata": {},
     "output_type": "display_data"
    }
   ],
   "source": [
    "%%html\n",
    "\n",
    "\n",
    "<label>Type 'javascript' or 'ecmascript'</label>\n",
    "\n",
    "<input pattern=\"(java|ecma)script\" required>\n",
    "\n",
    "<button>Submit</button>\n",
    "\n",
    "<style>\n",
    "\n",
    "input:invalid {\n",
    "  border: 1px solid red;\n",
    "}\n",
    "\n",
    "input:valid {\n",
    "  border: 1px solid green;\n",
    "}\n",
    "    \n",
    "</style>"
   ]
  },
  {
   "cell_type": "code",
   "execution_count": 6,
   "metadata": {
    "collapsed": false,
    "nbpresent": {
     "id": "78b7ad8f-0f86-4bd4-80db-ed55004623ed"
    },
    "scrolled": false,
    "slideshow": {
     "slide_type": "subslide"
    }
   },
   "outputs": [
    {
     "data": {
      "text/html": [
       "\n",
       "<input type=\"text\" placeholder=\"Name\" pattern=\"^[a-z A-Z]{1,}\\S$\" required><br>\n",
       "\n",
       "<input type=\"text\" placeholder=\"Phone Number\" pattern='(\\+\\d{1,2})?(-|\\()?(\\d{10}|(\\d{3}[\\-|\\)]{0,2}){2}\\d{4})$' required><br>\n",
       "\n",
       "<input type=\"text\" placeholder=\"E-mail\" pattern='\\w+@\\w\\.[a-z]{2,}' required><br>\n",
       "\n",
       "<button>Done</button>\n",
       "\n",
       "<style>\n",
       "input:invalid {\n",
       "  border: 1px solid red;\n",
       "}\n",
       "\n",
       "input:valid {\n",
       "  border: 1px solid green;\n",
       "}\n",
       "</style>"
      ],
      "text/plain": [
       "<IPython.core.display.HTML object>"
      ]
     },
     "metadata": {},
     "output_type": "display_data"
    }
   ],
   "source": [
    "%%html\n",
    "\n",
    "<input type=\"text\" placeholder=\"Name\" pattern=\"^[a-z A-Z]{1,}\\S$\" required><br>\n",
    "\n",
    "<input type=\"text\" placeholder=\"Phone Number\" pattern='(\\+\\d{1,2})?(-|\\()?(\\d{10}|(\\d{3}[\\-|\\)]{0,2}){2}\\d{4})$' required><br>\n",
    "\n",
    "<input type=\"text\" placeholder=\"E-mail\" pattern='\\w+@\\w\\.[a-z]{2,}' required><br>\n",
    "\n",
    "<button>Done</button>\n",
    "\n",
    "<style>\n",
    "input:invalid {\n",
    "  border: 1px solid red;\n",
    "}\n",
    "\n",
    "input:valid {\n",
    "  border: 1px solid green;\n",
    "}\n",
    "</style>"
   ]
  },
  {
   "cell_type": "markdown",
   "metadata": {
    "nbpresent": {
     "id": "006fc898-e5a3-4bc0-844f-f9afa59c5553"
    },
    "slideshow": {
     "slide_type": "slide"
    }
   },
   "source": [
    "## Django URL Routing"
   ]
  },
  {
   "cell_type": "markdown",
   "metadata": {
    "slideshow": {
     "slide_type": "fragment"
    }
   },
   "source": [
    "Python RegEx \"Named Groups\" ----> Parameter Capturing"
   ]
  },
  {
   "cell_type": "markdown",
   "metadata": {
    "nbpresent": {
     "id": "d517f330-a86f-4ac1-8dca-af7dc28c4b39"
    },
    "slideshow": {
     "slide_type": "subslide"
    }
   },
   "source": [
    "```\n",
    "urlpatterns = [\n",
    "    url(r'^admin/', admin.site.urls),\n",
    "    url(r'^post/detail/(?P<slug>[a-z_A-z]+)$', home),\n",
    "]\n",
    "```"
   ]
  },
  {
   "cell_type": "code",
   "execution_count": 3,
   "metadata": {
    "collapsed": false,
    "slideshow": {
     "slide_type": "subslide"
    }
   },
   "outputs": [],
   "source": [
    "from django.shortcuts import render, get_object_or_404\n",
    "#from .models import Post\n",
    "\n",
    "def post_detail_view(request, slug):\n",
    "    post = Post.objects.get(slug=slug)\n",
    "    # get_object_or_404()\n",
    "    return render(request, 'presidents.html', {'post': post})\n"
   ]
  },
  {
   "cell_type": "markdown",
   "metadata": {
    "nbpresent": {
     "id": "07eeaa43-eff1-4de1-8ced-867ac2b17faa"
    },
    "slideshow": {
     "slide_type": "slide"
    }
   },
   "source": [
    "# Interesting Features"
   ]
  },
  {
   "cell_type": "markdown",
   "metadata": {
    "slideshow": {
     "slide_type": "subslide"
    }
   },
   "source": [
    "## Lookarounds / Extensions"
   ]
  },
  {
   "cell_type": "markdown",
   "metadata": {
    "slideshow": {
     "slide_type": "fragment"
    }
   },
   "source": [
    "- `(?=...)` Positive Lookahead - assert that a pattern matches in the future\n",
    "- `(?!...)` Negative Lookahead - assert a pattern does not match in the future\n",
    "\n",
    "- `(?<=...)` Positive Lookbehind - assert a pattern that must preceed the next expression\n",
    "- `(?<!...)` Negative Loohbehind - assert a pattern that must not preceed the next expression"
   ]
  },
  {
   "cell_type": "markdown",
   "metadata": {
    "slideshow": {
     "slide_type": "subslide"
    }
   },
   "source": [
    "## Characterset Negation"
   ]
  },
  {
   "cell_type": "markdown",
   "metadata": {
    "slideshow": {
     "slide_type": "fragment"
    }
   },
   "source": [
    "`[^!@#$%&*()_+]` Match anything *except* the charset"
   ]
  },
  {
   "cell_type": "markdown",
   "metadata": {
    "slideshow": {
     "slide_type": "subslide"
    }
   },
   "source": [
    "## Lazy Loops\n",
    "\n"
   ]
  },
  {
   "cell_type": "markdown",
   "metadata": {
    "slideshow": {
     "slide_type": "fragment"
    }
   },
   "source": [
    "## \\* is not the same as ?\n",
    "\n",
    "`re.compile('https?://')` will match url addresses with or without the optinal 's'\n",
    "\n",
    "`re.compile('https*://')` may match 'httpssssss://'"
   ]
  },
  {
   "cell_type": "markdown",
   "metadata": {
    "slideshow": {
     "slide_type": "fragment"
    }
   },
   "source": [
    "#### Lazy Quantifier\n",
    "\n",
    "`<div>.*?</div>`  Considers the future"
   ]
  },
  {
   "cell_type": "markdown",
   "metadata": {
    "slideshow": {
     "slide_type": "fragment"
    }
   },
   "source": [
    "note: Don't actually parse html with regular expressions."
   ]
  },
  {
   "cell_type": "markdown",
   "metadata": {
    "nbpresent": {
     "id": "9681e78d-fc8f-490b-821a-abfa12feab9b"
    },
    "slideshow": {
     "slide_type": "slide"
    }
   },
   "source": [
    "#### Conclusion\n",
    "\n",
    "* RegExps are a _Swiss army knife_\n",
    "\n",
    "* Remeber that RegEx has is a language with commands, loops, and flow control\n",
    "\n",
    "* Using Rgular Expressions may be a mistake!\n",
    "\n",
    "* Verbose / Extended Formatting\n",
    "\n"
   ]
  },
  {
   "cell_type": "markdown",
   "metadata": {
    "nbpresent": {
     "id": "5082fecb-48e9-4a5a-97dd-1e7eec1d3af2"
    },
    "slideshow": {
     "slide_type": "slide"
    }
   },
   "source": [
    "![Regex is Easy](http://weknowmemes.com/generator/uploads/generated/g1386776306542781173.jpg \"Regex is easy\")"
   ]
  },
  {
   "cell_type": "markdown",
   "metadata": {
    "nbpresent": {
     "id": "b12685ec-227c-4a3c-b20f-c09eec9bbf8b"
    },
    "slideshow": {
     "slide_type": "slide"
    }
   },
   "source": [
    "#### Slide Deck\n",
    "\n",
    "https://github.com/KPrasch/RegExpAwesome"
   ]
  },
  {
   "cell_type": "markdown",
   "metadata": {
    "nbpresent": {
     "id": "7bd22301-ef5f-44c0-9a9c-6c688082f4a2"
    },
    "slideshow": {
     "slide_type": "slide"
    }
   },
   "source": [
    "Resources:\n",
    "- Best Tool Ever: https://regex101.com/\n",
    "- RegExper: https://regexper.com/\n",
    "- Python3 Common RegExp Problems: https://docs.python.org/3/howto/regex.html#common-problems\n",
    "- Miller Center: http://millercenter.org"
   ]
  }
 ],
 "metadata": {
  "anaconda-cloud": {},
  "celltoolbar": "Slideshow",
  "kernelspec": {
   "display_name": "Python [conda root]",
   "language": "python",
   "name": "conda-root-py"
  },
  "language_info": {
   "codemirror_mode": {
    "name": "ipython",
    "version": 3
   },
   "file_extension": ".py",
   "mimetype": "text/x-python",
   "name": "python",
   "nbconvert_exporter": "python",
   "pygments_lexer": "ipython3",
   "version": "3.5.2"
  },
  "nbpresent": {
   "slides": {
    "00dd8cb7-1ab3-4355-b05a-bf564072eb93": {
     "id": "00dd8cb7-1ab3-4355-b05a-bf564072eb93",
     "prev": "f6705bab-535e-4672-bc50-42dffc4a63ab",
     "regions": {
      "dd27c9fa-0897-4bd4-8363-41b959ffe463": {
       "attrs": {
        "height": 0.8,
        "width": 0.8,
        "x": 0.1,
        "y": 0.1
       },
       "content": {
        "cell": "5082fecb-48e9-4a5a-97dd-1e7eec1d3af2",
        "part": "whole"
       },
       "id": "dd27c9fa-0897-4bd4-8363-41b959ffe463"
      }
     }
    },
    "0e090c07-2498-4b8e-b046-ffd6c4affa9c": {
     "id": "0e090c07-2498-4b8e-b046-ffd6c4affa9c",
     "prev": "85d54499-74ae-4d65-98ca-f3fac8505e65",
     "regions": {
      "4cebd6e8-c92f-4a60-bc75-8fff1b0b2386": {
       "attrs": {
        "height": 0.4,
        "width": 0.8,
        "x": 0.1,
        "y": 0.5
       },
       "content": {
        "cell": "e0323374-29fa-424c-9f41-432947236dd1",
        "part": "whole"
       },
       "id": "4cebd6e8-c92f-4a60-bc75-8fff1b0b2386"
      },
      "cb6b2fc3-83a9-4e04-942f-f4e7d2c4cac9": {
       "attrs": {
        "height": 0.8,
        "width": 0.8,
        "x": 0.1,
        "y": 0.1
       },
       "content": {
        "cell": "78407564-8b67-4a1f-8b8f-467308ae6c45",
        "part": "whole"
       },
       "id": "cb6b2fc3-83a9-4e04-942f-f4e7d2c4cac9"
      }
     }
    },
    "1993a678-073f-4621-aa01-2f278eb5faba": {
     "id": "1993a678-073f-4621-aa01-2f278eb5faba",
     "prev": "25150175-b06f-40e7-9a5d-d2adc9fb2a5f",
     "regions": {
      "0426e547-49ac-4f9d-a4fd-63bdc6e50cea": {
       "attrs": {
        "height": 0.8,
        "width": 0.8,
        "x": 0.1,
        "y": 0.1
       },
       "content": {
        "cell": "d65ac625-1c0d-4b0f-9dec-c2b7b8bb7590",
        "part": "whole"
       },
       "id": "0426e547-49ac-4f9d-a4fd-63bdc6e50cea"
      }
     }
    },
    "2444794e-9f8e-4c4c-8912-e6288226bfb3": {
     "id": "2444794e-9f8e-4c4c-8912-e6288226bfb3",
     "prev": "ade95745-1ebd-4f54-8997-d42a869b17e5",
     "regions": {
      "0bf91335-96fa-46b0-827e-91990579d46c": {
       "attrs": {
        "height": 0.8,
        "width": 0.8,
        "x": 0.1,
        "y": 0.1
       },
       "content": {
        "cell": "62edd4e8-3d61-4424-8bbe-106305c215c0",
        "part": "whole"
       },
       "id": "0bf91335-96fa-46b0-827e-91990579d46c"
      }
     }
    },
    "25150175-b06f-40e7-9a5d-d2adc9fb2a5f": {
     "id": "25150175-b06f-40e7-9a5d-d2adc9fb2a5f",
     "prev": "db8ff18b-2873-4854-a008-9ada4b92b972",
     "regions": {
      "f17b9fcc-95bf-48ed-964a-b0987dbb9ad2": {
       "attrs": {
        "height": 0.8,
        "width": 0.8,
        "x": 0.1,
        "y": 0.1
       },
       "content": {
        "cell": "a4772391-503c-4348-965b-43e905cc379b",
        "part": "whole"
       },
       "id": "f17b9fcc-95bf-48ed-964a-b0987dbb9ad2"
      }
     }
    },
    "2ebac871-8787-423f-83d5-c560fa7d29ba": {
     "id": "2ebac871-8787-423f-83d5-c560fa7d29ba",
     "prev": "8595e8c9-7b06-45e7-bb8a-d1b77bfba4d8",
     "regions": {
      "c41f9572-358c-41f0-ba72-047ed6e568a4": {
       "attrs": {
        "height": 0.8,
        "width": 0.8,
        "x": 0.1,
        "y": 0.1
       },
       "content": {
        "cell": "d517f330-a86f-4ac1-8dca-af7dc28c4b39",
        "part": "whole"
       },
       "id": "c41f9572-358c-41f0-ba72-047ed6e568a4"
      }
     }
    },
    "2fdabce9-ca2b-404c-bdbc-477c3e0051f3": {
     "id": "2fdabce9-ca2b-404c-bdbc-477c3e0051f3",
     "prev": "ee9ce255-0c18-418e-af76-78db5576f999",
     "regions": {
      "16ed9c6d-2a4a-4c59-a1da-f58a179da19e": {
       "attrs": {
        "height": 0.8,
        "width": 0.8,
        "x": 0.1,
        "y": 0.1
       },
       "content": {
        "cell": "514bf993-576a-4569-b49a-e4eabc78bfb3",
        "part": "whole"
       },
       "id": "16ed9c6d-2a4a-4c59-a1da-f58a179da19e"
      }
     }
    },
    "38546e79-f799-4c7c-8171-cf0725e6c6a9": {
     "id": "38546e79-f799-4c7c-8171-cf0725e6c6a9",
     "prev": "686e71a4-c75e-409a-a539-0341c19499f5",
     "regions": {
      "1cb70b80-5714-4366-8f92-3de42ecb1853": {
       "attrs": {
        "height": 0.8,
        "width": 0.8,
        "x": 0.1,
        "y": 0.1
       },
       "content": {
        "cell": "b0fb0727-91c8-4ddb-986c-d466e889ffbf",
        "part": "whole"
       },
       "id": "1cb70b80-5714-4366-8f92-3de42ecb1853"
      }
     }
    },
    "39fc9914-89a7-49dd-b646-c31185e8d83c": {
     "id": "39fc9914-89a7-49dd-b646-c31185e8d83c",
     "prev": "2fdabce9-ca2b-404c-bdbc-477c3e0051f3",
     "regions": {
      "a6a14a0d-039d-43a4-a482-8d95bc8fada8": {
       "attrs": {
        "height": 0.8,
        "width": 0.8,
        "x": 0.1,
        "y": 0.1
       },
       "content": {
        "cell": "b71c918a-a737-4496-aab7-92244f70d3bf",
        "part": "whole"
       },
       "id": "a6a14a0d-039d-43a4-a482-8d95bc8fada8"
      }
     }
    },
    "4be44959-7c8a-4189-b46a-4aa9e841d66f": {
     "id": "4be44959-7c8a-4189-b46a-4aa9e841d66f",
     "prev": "00dd8cb7-1ab3-4355-b05a-bf564072eb93",
     "regions": {
      "44e88a97-6347-4f3e-a4a3-7bbca72c06c4": {
       "attrs": {
        "height": 0.8,
        "width": 0.8,
        "x": 0.1,
        "y": 0.1
       },
       "content": {
        "cell": "b12685ec-227c-4a3c-b20f-c09eec9bbf8b",
        "part": "whole"
       },
       "id": "44e88a97-6347-4f3e-a4a3-7bbca72c06c4"
      }
     }
    },
    "5cd3bcfd-38b0-406f-8c63-eb4037ef6ca1": {
     "id": "5cd3bcfd-38b0-406f-8c63-eb4037ef6ca1",
     "prev": "2444794e-9f8e-4c4c-8912-e6288226bfb3",
     "regions": {
      "f194d0ab-4943-4cf6-9653-3d58c2386285": {
       "attrs": {
        "height": 0.8,
        "width": 0.8,
        "x": 0.1,
        "y": 0.1
       },
       "content": {
        "cell": "07eeaa43-eff1-4de1-8ced-867ac2b17faa",
        "part": "whole"
       },
       "id": "f194d0ab-4943-4cf6-9653-3d58c2386285"
      }
     }
    },
    "686e71a4-c75e-409a-a539-0341c19499f5": {
     "id": "686e71a4-c75e-409a-a539-0341c19499f5",
     "prev": "39fc9914-89a7-49dd-b646-c31185e8d83c",
     "regions": {
      "54d06bc0-0577-4989-96ac-5ed38e97612d": {
       "attrs": {
        "height": 0.8,
        "width": 0.8,
        "x": 0.1,
        "y": 0.1
       },
       "content": {
        "cell": "69eb16a5-68f1-4433-a9d7-54db0d427e58",
        "part": "whole"
       },
       "id": "54d06bc0-0577-4989-96ac-5ed38e97612d"
      }
     }
    },
    "74f15c37-cd9f-487c-b2fb-b2ad6f7d278a": {
     "id": "74f15c37-cd9f-487c-b2fb-b2ad6f7d278a",
     "prev": "5cd3bcfd-38b0-406f-8c63-eb4037ef6ca1",
     "regions": {
      "c87586f4-64dd-4adf-b1db-a635863ab0d6": {
       "attrs": {
        "height": 0.8,
        "width": 0.8,
        "x": 0.1,
        "y": 0.1
       },
       "content": {
        "cell": "cf4e9945-b174-49eb-81eb-3373bbfb89e9",
        "part": "whole"
       },
       "id": "c87586f4-64dd-4adf-b1db-a635863ab0d6"
      }
     }
    },
    "8595e8c9-7b06-45e7-bb8a-d1b77bfba4d8": {
     "id": "8595e8c9-7b06-45e7-bb8a-d1b77bfba4d8",
     "prev": "e6e5e8e8-499b-4946-8a44-c64aeaf9285e",
     "regions": {
      "80782e0f-2c8e-4073-a75a-8c6a03c236e5": {
       "attrs": {
        "height": 0.8,
        "width": 0.8,
        "x": 0.1,
        "y": 0.1
       },
       "content": {
        "cell": "006fc898-e5a3-4bc0-844f-f9afa59c5553",
        "part": "whole"
       },
       "id": "80782e0f-2c8e-4073-a75a-8c6a03c236e5"
      }
     }
    },
    "85d54499-74ae-4d65-98ca-f3fac8505e65": {
     "id": "85d54499-74ae-4d65-98ca-f3fac8505e65",
     "prev": null,
     "regions": {
      "9c13faa3-b3e7-4318-b079-a9383f731070": {
       "attrs": {
        "height": 0.8,
        "width": 0.8,
        "x": 0.1,
        "y": 0.1
       },
       "content": {
        "cell": "46a7e574-07ad-400a-b9f3-14b23dc26415",
        "part": "whole"
       },
       "id": "9c13faa3-b3e7-4318-b079-a9383f731070"
      }
     }
    },
    "ab9f5cfd-ac30-4410-9d47-1f2cfe9cd24e": {
     "id": "ab9f5cfd-ac30-4410-9d47-1f2cfe9cd24e",
     "prev": "4be44959-7c8a-4189-b46a-4aa9e841d66f",
     "regions": {
      "ce0aa7e8-d720-4e15-a8fe-68e3cd983331": {
       "attrs": {
        "height": 0.8,
        "width": 0.8,
        "x": 0.1,
        "y": 0.1
       },
       "content": {
        "cell": "7bd22301-ef5f-44c0-9a9c-6c688082f4a2",
        "part": "whole"
       },
       "id": "ce0aa7e8-d720-4e15-a8fe-68e3cd983331"
      }
     }
    },
    "ade95745-1ebd-4f54-8997-d42a869b17e5": {
     "id": "ade95745-1ebd-4f54-8997-d42a869b17e5",
     "prev": "2ebac871-8787-423f-83d5-c560fa7d29ba",
     "regions": {
      "e6281803-c33c-43af-8bd9-a2988720c3dc": {
       "attrs": {
        "height": 0.8,
        "width": 0.8,
        "x": 0.1,
        "y": 0.1
       },
       "content": {
        "cell": "05af3fa2-92ea-478b-b744-2cafe0da5d4f",
        "part": "whole"
       },
       "id": "e6281803-c33c-43af-8bd9-a2988720c3dc"
      }
     }
    },
    "c9bff4e0-8d49-4559-a4fe-9d306a240af4": {
     "id": "c9bff4e0-8d49-4559-a4fe-9d306a240af4",
     "prev": "0e090c07-2498-4b8e-b046-ffd6c4affa9c",
     "regions": {
      "61c65e0d-f4f8-4aa3-9322-05e1808af03b": {
       "attrs": {
        "height": 0.8,
        "width": 0.8,
        "x": 0.1,
        "y": 0.1
       },
       "content": {
        "cell": "8974b841-42bf-4950-a23a-cf56b9533798",
        "part": "whole"
       },
       "id": "61c65e0d-f4f8-4aa3-9322-05e1808af03b"
      }
     }
    },
    "db8ff18b-2873-4854-a008-9ada4b92b972": {
     "id": "db8ff18b-2873-4854-a008-9ada4b92b972",
     "prev": "c9bff4e0-8d49-4559-a4fe-9d306a240af4",
     "regions": {
      "dba865ef-0801-4058-9c12-df29168f7750": {
       "attrs": {
        "height": 0.8,
        "width": 0.8,
        "x": 0.1,
        "y": 0.1
       },
       "content": {
        "cell": "e054b3eb-f9e1-4646-b92e-94f4f70c287a",
        "part": "whole"
       },
       "id": "dba865ef-0801-4058-9c12-df29168f7750"
      }
     }
    },
    "e6e5e8e8-499b-4946-8a44-c64aeaf9285e": {
     "id": "e6e5e8e8-499b-4946-8a44-c64aeaf9285e",
     "prev": "38546e79-f799-4c7c-8171-cf0725e6c6a9",
     "regions": {
      "2e56fb7c-2829-488c-a78f-27744d6588c1": {
       "attrs": {
        "height": 0.8,
        "width": 0.8,
        "x": 0.1,
        "y": 0.1
       },
       "content": {
        "cell": "78b7ad8f-0f86-4bd4-80db-ed55004623ed",
        "part": "whole"
       },
       "id": "2e56fb7c-2829-488c-a78f-27744d6588c1"
      }
     }
    },
    "ee9ce255-0c18-418e-af76-78db5576f999": {
     "id": "ee9ce255-0c18-418e-af76-78db5576f999",
     "prev": "1993a678-073f-4621-aa01-2f278eb5faba",
     "regions": {
      "671cdb8a-f328-49f2-abb1-61e255597639": {
       "attrs": {
        "height": 0.8,
        "width": 0.8,
        "x": 0.1,
        "y": 0.1
       },
       "content": {
        "cell": "25977d1e-0858-4ec6-917d-1a7affe956d9",
        "part": "whole"
       },
       "id": "671cdb8a-f328-49f2-abb1-61e255597639"
      }
     }
    },
    "f6705bab-535e-4672-bc50-42dffc4a63ab": {
     "id": "f6705bab-535e-4672-bc50-42dffc4a63ab",
     "prev": "f7a64b0f-4d2a-49da-8953-6886a2b3dedd",
     "regions": {
      "3bd6f736-c09b-4e44-b453-51443a8a43d8": {
       "attrs": {
        "height": 0.8,
        "width": 0.8,
        "x": 0.1,
        "y": 0.1
       },
       "content": {
        "cell": "9681e78d-fc8f-490b-821a-abfa12feab9b",
        "part": "whole"
       },
       "id": "3bd6f736-c09b-4e44-b453-51443a8a43d8"
      }
     }
    },
    "f7a64b0f-4d2a-49da-8953-6886a2b3dedd": {
     "id": "f7a64b0f-4d2a-49da-8953-6886a2b3dedd",
     "prev": "74f15c37-cd9f-487c-b2fb-b2ad6f7d278a",
     "regions": {
      "33b9e246-e736-4505-b39f-d92240113483": {
       "attrs": {
        "height": 0.8,
        "width": 0.8,
        "x": 0.1,
        "y": 0.1
       },
       "content": {
        "cell": "57fc5385-fa78-483c-bcd7-9149270e2c80",
        "part": "whole"
       },
       "id": "33b9e246-e736-4505-b39f-d92240113483"
      }
     }
    }
   },
   "themes": {
    "default": "c677a552-21ad-4b3b-8409-e484082a19c1",
    "theme": {
     "c677a552-21ad-4b3b-8409-e484082a19c1": {
      "backgrounds": {
       "backgroundColor": {
        "background-color": "backgroundColor",
        "id": "backgroundColor"
       }
      },
      "id": "c677a552-21ad-4b3b-8409-e484082a19c1",
      "palette": {
       "backgroundColor": {
        "id": "backgroundColor",
        "rgb": [
         0,
         43,
         54
        ]
       },
       "headingColor": {
        "id": "headingColor",
        "rgb": [
         238,
         232,
         213
        ]
       },
       "linkColor": {
        "id": "linkColor",
        "rgb": [
         38,
         139,
         210
        ]
       },
       "mainColor": {
        "id": "mainColor",
        "rgb": [
         147,
         161,
         161
        ]
       }
      },
      "rules": {
       "a": {
        "color": "linkColor"
       },
       "h1": {
        "color": "headingColor",
        "font-family": "Oswald",
        "font-size": 7
       },
       "h2": {
        "color": "headingColor",
        "font-family": "Oswald",
        "font-size": 5
       },
       "h3": {
        "color": "headingColor",
        "font-family": "Oswald",
        "font-size": 3.75
       },
       "h4": {
        "color": "headingColor",
        "font-family": "Oswald",
        "font-size": 3
       },
       "h5": {
        "color": "headingColor",
        "font-family": "Oswald"
       },
       "h6": {
        "color": "headingColor",
        "font-family": "Oswald"
       },
       "h7": {
        "color": "headingColor",
        "font-family": "Oswald"
       },
       "li": {
        "color": "mainColor",
        "font-family": "Lato",
        "font-size": 5
       },
       "p": {
        "color": "mainColor",
        "font-family": "Lato",
        "font-size": 5
       }
      },
      "text-base": {
       "color": "mainColor",
       "font-family": "Lato",
       "font-size": 5
      }
     }
    }
   }
  },
  "widgets": {
   "state": {},
   "version": "1.1.2"
  }
 },
 "nbformat": 4,
 "nbformat_minor": 0
}
